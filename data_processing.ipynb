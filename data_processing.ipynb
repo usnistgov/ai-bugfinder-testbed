{
 "cells": [
  {
   "cell_type": "markdown",
   "metadata": {},
   "source": [
    "# Dataset processing\n",
    "\n",
    "Notebook to interface with the raw CWE121 Juliet data. Make sure the data has been downloaded using `./tools/download_cwe121.sh`.\n",
    "\n",
    "## 1. Prepare the dataset"
   ]
  },
  {
   "cell_type": "code",
   "execution_count": 1,
   "metadata": {},
   "outputs": [],
   "source": [
    "# Setup logging\n",
    "import logging\n",
    "from tools.settings import LOGGER\n",
    "\n",
    "LOGGER.setLevel(logging.INFO)"
   ]
  },
  {
   "cell_type": "code",
   "execution_count": 24,
   "metadata": {},
   "outputs": [],
   "source": [
    "# Import dataset classes and processing operations\n",
    "from tools.dataset import CWEClassificationDataset as Dataset\n",
    "from tools.dataset.processing.dataset_ops import *\n",
    "from tools.dataset.processing.file_ops import *\n",
    "from tools.dataset.processing.content_ops import *\n",
    "\n",
    "# Dataset directories\n",
    "extracted_dataset_path = \"./data/cwe121_annot\"\n",
    "cleaned_dataset_path = \"./data/cwe121_dataset\"\n",
    "cwe121_1000_ref_dataset_path = \"./data/cwe121_1000\"\n",
    "cwe121_1000_dataset_path = \"./data/cwe121_1000a\""
   ]
  },
  {
   "cell_type": "code",
   "execution_count": 3,
   "metadata": {},
   "outputs": [
    {
     "name": "stdout",
     "output_type": "stream",
     "text": [
      "[2019-08-22 17:53:11][INFO] Dataset index build in 928ms. 9888 test_cases, 2 classes.\n",
      "[2019-08-22 17:53:11][INFO] Running operation 1/1 (CopyDataset)...\n",
      "[2019-08-22 17:53:20][INFO] 1 operations run in 8713ms.\n"
     ]
    }
   ],
   "source": [
    "# Create a copy of the annotated dataset to avoid overwriting\n",
    "extracted_dataset = Dataset(extracted_dataset_path)\n",
    "extracted_dataset.queue_operation(CopyDataset, {\"to_path\": cleaned_dataset_path, \"force\": True})\n",
    "extracted_dataset.process()"
   ]
  },
  {
   "cell_type": "code",
   "execution_count": 4,
   "metadata": {},
   "outputs": [
    {
     "name": "stdout",
     "output_type": "stream",
     "text": [
      "[2019-08-22 17:53:30][INFO] Dataset index build in 485ms. 9888 test_cases, 2 classes.\n",
      "[2019-08-22 17:53:30][INFO] Running operation 1/3 (RemoveCppFiles)...\n",
      "[2019-08-22 17:53:31][INFO] Dataset index build in 377ms. 8684 test_cases, 2 classes.\n",
      "[2019-08-22 17:53:31][INFO] Running operation 2/3 (RemoveMainFunction)...\n",
      "[2019-08-22 17:53:38][INFO] Dataset index build in 740ms. 8684 test_cases, 2 classes.\n",
      "[2019-08-22 17:53:38][INFO] Running operation 3/3 (ReplaceLitterals)...\n",
      "[2019-08-22 17:53:59][INFO] 3 operations run in 29281ms.\n"
     ]
    }
   ],
   "source": [
    "# Cleanup new dataset\n",
    "cleaned_dataset = Dataset(cleaned_dataset_path)\n",
    "\n",
    "cleaned_dataset.queue_operation(RemoveCppFiles)\n",
    "cleaned_dataset.queue_operation(RemoveMainFunction)\n",
    "cleaned_dataset.queue_operation(ReplaceLitterals)\n",
    "\n",
    "cleaned_dataset.process()"
   ]
  },
  {
   "cell_type": "code",
   "execution_count": 25,
   "metadata": {},
   "outputs": [
    {
     "name": "stdout",
     "output_type": "stream",
     "text": [
      "[2019-08-23 12:07:39][INFO] Running operation 1/1 (ExtractSampleDataset)...\n",
      "[2019-08-23 12:07:39][INFO] 1 operations run in 465ms.\n",
      "[2019-08-23 12:07:39][INFO] Dataset index build in 66ms. 1000 test_cases, 2 classes.\n",
      "[2019-08-23 12:07:39][INFO] Running operation 1/1 (CopyDataset)...\n",
      "[2019-08-23 12:07:39][INFO] 1 operations run in 301ms.\n",
      "[2019-08-23 12:07:39][INFO] Dataset index build in 59ms. 1000 test_cases, 2 classes.\n"
     ]
    }
   ],
   "source": [
    "# Extract a subset of 1000 samples for training, test and validation purposes. \n",
    "cleaned_dataset.queue_operation(\n",
    "    ExtractSampleDataset, {\"to_path\": cwe121_1000_ref_dataset_path, \"sample_nb\": 1000, \"force\": True}\n",
    ")\n",
    "cleaned_dataset.process()"
   ]
  },
  {
   "cell_type": "code",
   "execution_count": null,
   "metadata": {},
   "outputs": [],
   "source": [
    "# Copy the dataset for future references.\n",
    "cwe121_1000_ref_dataset = Dataset(cwe121_1000_ref_dataset_path)\n",
    "cwe121_1000_ref_dataset.queue_operation(CopyDataset, {\"to_path\": cwe121_1000_dataset_path, \"force\": True})\n",
    "\n",
    "cwe121_1000_ref_dataset.process()\n",
    "cwe121_1000_dataset = Dataset(cwe121_1000_dataset_path)"
   ]
  },
  {
   "cell_type": "markdown",
   "metadata": {},
   "source": [
    "## 2. Apply joern\n",
    "\n",
    "In this step, the code will be transform in a graph stored in a Neo4J database."
   ]
  },
  {
   "cell_type": "code",
   "execution_count": null,
   "metadata": {},
   "outputs": [],
   "source": []
  },
  {
   "cell_type": "code",
   "execution_count": null,
   "metadata": {},
   "outputs": [],
   "source": []
  },
  {
   "cell_type": "markdown",
   "metadata": {},
   "source": [
    "## 3. Markup AST"
   ]
  },
  {
   "cell_type": "code",
   "execution_count": null,
   "metadata": {},
   "outputs": [],
   "source": []
  },
  {
   "cell_type": "code",
   "execution_count": null,
   "metadata": {},
   "outputs": [],
   "source": []
  },
  {
   "cell_type": "code",
   "execution_count": null,
   "metadata": {},
   "outputs": [],
   "source": []
  },
  {
   "cell_type": "markdown",
   "metadata": {},
   "source": [
    "## 4. Preview data"
   ]
  },
  {
   "cell_type": "code",
   "execution_count": null,
   "metadata": {},
   "outputs": [],
   "source": []
  },
  {
   "cell_type": "code",
   "execution_count": null,
   "metadata": {},
   "outputs": [],
   "source": []
  },
  {
   "cell_type": "code",
   "execution_count": null,
   "metadata": {},
   "outputs": [],
   "source": []
  }
 ],
 "metadata": {
  "kernelspec": {
   "display_name": "Python 3",
   "language": "python",
   "name": "python3"
  },
  "language_info": {
   "codemirror_mode": {
    "name": "ipython",
    "version": 3
   },
   "file_extension": ".py",
   "mimetype": "text/x-python",
   "name": "python",
   "nbconvert_exporter": "python",
   "pygments_lexer": "ipython3",
   "version": "3.6.8"
  }
 },
 "nbformat": 4,
 "nbformat_minor": 2
}
