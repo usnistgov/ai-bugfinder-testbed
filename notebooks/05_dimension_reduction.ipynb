{
 "cells": [
  {
   "cell_type": "markdown",
   "metadata": {},
   "source": [
    "# 05. Dimension reduction algorithms\n",
    "\n",
    "https://scikit-learn.org/stable/modules/feature_selection.html\n",
    "\n",
    "## 05.a. Imports, logging configuration and dataset preparation"
   ]
  },
  {
   "cell_type": "code",
   "execution_count": null,
   "metadata": {},
   "outputs": [],
   "source": [
    "# Enable these line if live changes in the codebase are made\n",
    "# %load_ext autoreload\n",
    "# %autoreload 2"
   ]
  },
  {
   "cell_type": "code",
   "execution_count": null,
   "metadata": {},
   "outputs": [],
   "source": [
    "# Disable tensorflow logging\n",
    "import os\n",
    "import logging\n",
    "os.environ['TF_CPP_MIN_LOG_LEVEL'] = '3'  # or any {'0', '1', '2'}\n",
    "logging.getLogger('tensorflow').setLevel(logging.FATAL)"
   ]
  },
  {
   "cell_type": "code",
   "execution_count": null,
   "metadata": {},
   "outputs": [],
   "source": [
    "# Specific instruction to run the notebooks from a sub-folder.\n",
    "import sys\n",
    "sys.path.append(\"..\")"
   ]
  },
  {
   "cell_type": "code",
   "execution_count": null,
   "metadata": {},
   "outputs": [],
   "source": [
    "import logging\n",
    "from bugfinder.settings import LOGGER\n",
    "from bugfinder.dataset import CWEClassificationDataset as Dataset"
   ]
  },
  {
   "cell_type": "code",
   "execution_count": null,
   "metadata": {},
   "outputs": [],
   "source": [
    "from bugfinder.features.reduction.variance_threshold import FeatureSelector as VarianceThreshold\n",
    "from bugfinder.features.reduction.univariate_select import FeatureSelector as UnivariateSelect\n",
    "from bugfinder.features.reduction.select_from_model import FeatureSelector as SelectFromModel\n",
    "from bugfinder.features.reduction.auto_encoder import FeatureSelector as AutoEncoder\n",
    "from bugfinder.features.reduction.sequential_feature_selector import FeatureSelector as SequentialFeatureSelector\n",
    "from bugfinder.features.reduction.pca import FeatureSelector as PCA\n",
    "from bugfinder.features.reduction.recursive_feature_elimination import FeatureSelector as RecursiveFeatureElimination"
   ]
  },
  {
   "cell_type": "code",
   "execution_count": null,
   "metadata": {},
   "outputs": [],
   "source": [
    "# Setup logging to only output INFO level messages\n",
    "LOGGER.setLevel(logging.INFO)"
   ]
  },
  {
   "cell_type": "code",
   "execution_count": null,
   "metadata": {},
   "outputs": [],
   "source": [
    "# Dataset directories (DO NOT EDIT)\n",
    "cwe121_v__2_dataset_path = [\n",
    "    \"../data/cwe121_v112\", \"../data/cwe121_v122\", \"../data/cwe121_v212\", \"../data/cwe121_v222\", \n",
    "#     \"../data/cwe121_v312\", \"../data/cwe121_v322\"\n",
    "]\n",
    "cwe121_v__3_dataset_path = [\n",
    "    \"../data/cwe121_v113\", \"../data/cwe121_v123\", \"../data/cwe121_v213\", \"../data/cwe121_v223\", \n",
    "#     \"../data/cwe121_v313\", \"../data/cwe121_v323\"\n",
    "]"
   ]
  },
  {
   "cell_type": "markdown",
   "metadata": {},
   "source": [
    "## Low variance filter\n",
    "\n",
    "Removes features with little changes."
   ]
  },
  {
   "cell_type": "code",
   "execution_count": null,
   "metadata": {},
   "outputs": [],
   "source": [
    "threshold = 0.995"
   ]
  },
  {
   "cell_type": "code",
   "execution_count": null,
   "metadata": {},
   "outputs": [],
   "source": [
    "for dataset_path in cwe121_v__2_dataset_path[:1]:\n",
    "    LOGGER.info(\"Processing %s...\" % dataset_path)\n",
    "    dataset = Dataset(dataset_path)\n",
    "    dataset.queue_operation(VarianceThreshold, {\"threshold\": threshold, \"dry_run\": True})\n",
    "    dataset.process()"
   ]
  },
  {
   "cell_type": "markdown",
   "metadata": {},
   "source": [
    "## Univariate feature selection\n"
   ]
  },
  {
   "cell_type": "code",
   "execution_count": null,
   "metadata": {},
   "outputs": [],
   "source": [
    "scoring_functions = [\"chi2\", \"f_classif\", \"mutual_info_classif\"]\n",
    "scoring_fn = scoring_functions[0]\n",
    "\n",
    "scoring_modes = [\"k_best\", \"percentile\", \"fpr\", \"fdr\", \"fwe\"]\n",
    "scoring_mode = scoring_modes[0]\n",
    "\n",
    "scoring_param = 200"
   ]
  },
  {
   "cell_type": "code",
   "execution_count": null,
   "metadata": {},
   "outputs": [],
   "source": [
    "for dataset_path in cwe121_v__2_dataset_path[:1]:\n",
    "    LOGGER.info(\"Processing %s...\" % dataset_path)\n",
    "    dataset = Dataset(dataset_path)\n",
    "    dataset.queue_operation(UnivariateSelect, {\"function\": scoring_fn, \"mode\": scoring_mode, \"param\": scoring_param, \"dry_run\": True})\n",
    "    dataset.process()"
   ]
  },
  {
   "cell_type": "markdown",
   "metadata": {},
   "source": [
    "## Select from model"
   ]
  },
  {
   "cell_type": "code",
   "execution_count": null,
   "metadata": {},
   "outputs": [],
   "source": [
    "estimators = [\n",
    "    \"LogisticRegression\",\n",
    "    \"LogisticRegressionCV\",\n",
    "    \"PassiveAggressive\",\n",
    "    \"Perceptron\",\n",
    "    \"Ridge\",\n",
    "    \"RidgeCV\",\n",
    "    \"SGD\",\n",
    "    \"DecisionTree\",\n",
    "    \"ExtraTree\",\n",
    "    \"AdaBoost\",    \n",
    "    \"ExtraTrees\",\n",
    "    \"GradientBoosting\",\n",
    "    \"RandomForest\",\n",
    "    \"SVC\",\n",
    "    \"SVR\",\n",
    "    \"NuSVC\",\n",
    "    \"NuSVR\",\n",
    "    \"OneClassSVM\"\n",
    "]\n",
    "estimator = estimators[0]"
   ]
  },
  {
   "cell_type": "code",
   "execution_count": null,
   "metadata": {},
   "outputs": [],
   "source": [
    "for dataset_path in cwe121_v__2_dataset_path[:1]:\n",
    "    LOGGER.info(\"Processing %s...\" % dataset_path)\n",
    "    dataset = Dataset(dataset_path)\n",
    "    dataset.queue_operation(SelectFromModel, {\"model\": estimator, \"dry_run\": True})\n",
    "    dataset.process()"
   ]
  },
  {
   "cell_type": "markdown",
   "metadata": {},
   "source": [
    "## Recursive feature elimination: \n",
    "\n",
    "removes features with the least impact on the sum of squares error."
   ]
  },
  {
   "cell_type": "code",
   "execution_count": null,
   "metadata": {},
   "outputs": [],
   "source": [
    "estimator = estimators[0]\n",
    "cross_validation = False\n",
    "features_to_keep = 1000"
   ]
  },
  {
   "cell_type": "code",
   "execution_count": null,
   "metadata": {},
   "outputs": [],
   "source": [
    "for dataset_path in cwe121_v__2_dataset_path[:1]:\n",
    "    LOGGER.info(\"Processing %s...\" % dataset_path)\n",
    "    dataset = Dataset(dataset_path)\n",
    "    dataset.queue_operation(RecursiveFeatureElimination, {\"model\": estimator, \"cross_validation\": cross_validation, \"features\": features_to_keep, \"dry_run\": True})\n",
    "    dataset.process()"
   ]
  },
  {
   "cell_type": "markdown",
   "metadata": {},
   "source": [
    "## Sequential feature selection: \n",
    "\n",
    "adds features with the most impact on the sum of squares error.\n",
    "\n",
    "-> Sequential Feature selection"
   ]
  },
  {
   "cell_type": "code",
   "execution_count": null,
   "metadata": {},
   "outputs": [],
   "source": [
    "estimator = estimators[0]\n",
    "directions = [\"forward\", \"backward\"]\n",
    "direction = directions[0]\n",
    "features_to_keep = 1000"
   ]
  },
  {
   "cell_type": "code",
   "execution_count": null,
   "metadata": {},
   "outputs": [],
   "source": [
    "for dataset_path in cwe121_v__2_dataset_path[:1]:\n",
    "    LOGGER.info(\"Processing %s...\" % dataset_path)\n",
    "    dataset = Dataset(dataset_path)\n",
    "    dataset.queue_operation(SequentialFeatureSelector, {\"model\": estimator, \"direction\": direction, \"features\": features_to_keep, \"dry_run\": True})\n",
    "    dataset.process()"
   ]
  },
  {
   "cell_type": "markdown",
   "metadata": {},
   "source": [
    "## Auto encoders\n",
    "\n",
    "defines a neural network with the same number of input and output neurons as the number of features, the hidden layers have a smaller number of neurons to perform dimension reduction.\n",
    "\n",
    "-> create a new model"
   ]
  },
  {
   "cell_type": "code",
   "execution_count": null,
   "metadata": {},
   "outputs": [],
   "source": [
    "# Input features\n",
    "dimension = 250\n",
    "layers = \"500,100,500\"\n",
    "model_path = \"/tmp/encoder.mdl\""
   ]
  },
  {
   "cell_type": "code",
   "execution_count": null,
   "metadata": {},
   "outputs": [],
   "source": [
    "for dataset_path in cwe121_v__2_dataset_path[:1]:\n",
    "    LOGGER.info(\"Processing %s...\" % dataset_path)\n",
    "    dataset = Dataset(dataset_path)\n",
    "    dataset.queue_operation(\n",
    "        AutoEncoder, \n",
    "        {\n",
    "            \"dimension\": dimension, \n",
    "            \"layers\": layers, \n",
    "            \"encoder_path\": features_to_keep, \n",
    "            \"dry_run\": True\n",
    "        }\n",
    "    )\n",
    "    dataset.process()"
   ]
  }
 ],
 "metadata": {
  "kernelspec": {
   "display_name": "Python 3",
   "language": "python",
   "name": "python3"
  },
  "language_info": {
   "codemirror_mode": {
    "name": "ipython",
    "version": 3
   },
   "file_extension": ".py",
   "mimetype": "text/x-python",
   "name": "python",
   "nbconvert_exporter": "python",
   "pygments_lexer": "ipython3",
   "version": "3.6.12"
  }
 },
 "nbformat": 4,
 "nbformat_minor": 2
}
