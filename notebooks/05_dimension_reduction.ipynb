{
 "cells": [
  {
   "cell_type": "markdown",
   "metadata": {},
   "source": [
    "# 05. Dimension reduction algorithms\n",
    "\n",
    "In this step, the number of features previously obtained will be reduced to ensure quick convergence of the model. Several methods exist, either by selecting the most important feature or creating new ones.\n",
    "\n",
    "This notebook and the underlying processing steps follow closely the feature selection explanation from Scikit Learn, available at: https://scikit-learn.org/stable/modules/feature_selection.html.\n",
    "\n",
    "## 05.a. Imports, logging configuration and dataset preparation\n",
    "\n",
    "The first step is to perform the necessary imports and configure the program."
   ]
  },
  {
   "cell_type": "code",
   "execution_count": null,
   "metadata": {},
   "outputs": [],
   "source": [
    "# Enable these line if live changes in the codebase are made\n",
    "# %load_ext autoreload\n",
    "# %autoreload 2"
   ]
  },
  {
   "cell_type": "code",
   "execution_count": null,
   "metadata": {},
   "outputs": [],
   "source": [
    "# Disable tensorflow logging\n",
    "import os\n",
    "import logging\n",
    "os.environ['TF_CPP_MIN_LOG_LEVEL'] = '3'  # or any {'0', '1', '2'}\n",
    "logging.getLogger('tensorflow').setLevel(logging.FATAL)"
   ]
  },
  {
   "cell_type": "code",
   "execution_count": null,
   "metadata": {},
   "outputs": [],
   "source": [
    "# Specific instruction to run the notebooks from a sub-folder.\n",
    "import sys\n",
    "sys.path.append(\"..\")"
   ]
  },
  {
   "cell_type": "code",
   "execution_count": null,
   "metadata": {},
   "outputs": [],
   "source": [
    "from bugfinder.settings import LOGGER\n",
    "from bugfinder.dataset import CWEClassificationDataset as Dataset\n",
    "from bugfinder.features.reduction.variance_threshold import FeatureSelector as VarianceThreshold\n",
    "from bugfinder.features.reduction.univariate_select import FeatureSelector as UnivariateSelect\n",
    "from bugfinder.features.reduction.select_from_model import FeatureSelector as SelectFromModel\n",
    "from bugfinder.features.reduction.auto_encoder import FeatureSelector as AutoEncoder\n",
    "from bugfinder.features.reduction.sequential_feature_selector \\\n",
    "    import FeatureSelector as SequentialFeatureSelector\n",
    "from bugfinder.features.reduction.pca import FeatureSelector as PCA\n",
    "from bugfinder.features.reduction.recursive_feature_elimination \\\n",
    "    import FeatureSelector as RecursiveFeatureElimination"
   ]
  },
  {
   "cell_type": "code",
   "execution_count": null,
   "metadata": {},
   "outputs": [],
   "source": [
    "# Setup logging to only output INFO level messages\n",
    "LOGGER.setLevel(logging.INFO)"
   ]
  },
  {
   "cell_type": "code",
   "execution_count": null,
   "metadata": {},
   "outputs": [],
   "source": [
    "# Dataset directories (DO NOT EDIT)\n",
    "cwe121_v__2_dataset_path = [\n",
    "    \"../data/cwe121_v112\", \"../data/cwe121_v122\", \"../data/cwe121_v212\", \"../data/cwe121_v222\", \n",
    "#     \"../data/cwe121_v312\", \"../data/cwe121_v322\"\n",
    "]\n",
    "cwe121_v__3_dataset_path = [\n",
    "    \"../data/cwe121_v113\", \"../data/cwe121_v123\", \"../data/cwe121_v213\", \"../data/cwe121_v223\", \n",
    "#     \"../data/cwe121_v313\", \"../data/cwe121_v323\"\n",
    "]"
   ]
  },
  {
   "cell_type": "markdown",
   "metadata": {},
   "source": [
    "## 05.b. Variance Threshold\n",
    "\n",
    "This feature selector removes features that have low variation as defined by the `threshold` parameter."
   ]
  },
  {
   "cell_type": "code",
   "execution_count": null,
   "metadata": {},
   "outputs": [],
   "source": [
    "reducer_params = {\n",
    "    \"threshold\": 0.995,  # Should be between 0 and 1\n",
    "    \"dry_run\": True\n",
    "}"
   ]
  },
  {
   "cell_type": "code",
   "execution_count": null,
   "metadata": {},
   "outputs": [],
   "source": [
    "for dataset_path in cwe121_v__2_dataset_path[:1]:\n",
    "    LOGGER.info(\"Processing %s...\" % dataset_path)\n",
    "    dataset = Dataset(dataset_path)\n",
    "    dataset.queue_operation(VarianceThreshold, reducer_params)\n",
    "    dataset.process()"
   ]
  },
  {
   "cell_type": "markdown",
   "metadata": {},
   "source": [
    "## 05.c. Univariate feature selection\n",
    "\n",
    "Select the best features based on a predefined statistical test."
   ]
  },
  {
   "cell_type": "code",
   "execution_count": null,
   "metadata": {},
   "outputs": [],
   "source": [
    "scoring_functions = [\"chi2\", \"f_classif\", \"mutual_info_classif\"]\n",
    "scoring_modes = [\"k_best\", \"percentile\", \"fpr\", \"fdr\", \"fwe\"]\n",
    "\n",
    "reducer_params = {\n",
    "    \"function\": scoring_functions[0],\n",
    "    \"mode\": scoring_modes[0],\n",
    "    \"param\": 200,  # `float` or `int`, depends on the selected mode\n",
    "    \"dry_run\": True\n",
    "}"
   ]
  },
  {
   "cell_type": "code",
   "execution_count": null,
   "metadata": {},
   "outputs": [],
   "source": [
    "for dataset_path in cwe121_v__2_dataset_path[:1]:\n",
    "    LOGGER.info(\"Processing %s...\" % dataset_path)\n",
    "    dataset = Dataset(dataset_path)\n",
    "    dataset.queue_operation(UnivariateSelect, reducer_params)\n",
    "    dataset.process()"
   ]
  },
  {
   "cell_type": "markdown",
   "metadata": {},
   "source": [
    "## 05.d. Select from model\n",
    "\n",
    "This selector choose the best feature according to the training results of one of the estimators available."
   ]
  },
  {
   "cell_type": "code",
   "execution_count": null,
   "metadata": {},
   "outputs": [],
   "source": [
    "estimators = [\n",
    "    \"LogisticRegression\",\n",
    "    \"LogisticRegressionCV\",\n",
    "    \"PassiveAggressive\",\n",
    "    \"Perceptron\",\n",
    "    \"Ridge\",\n",
    "    \"RidgeCV\",\n",
    "    \"SGD\",\n",
    "    \"DecisionTree\",\n",
    "    \"ExtraTree\",\n",
    "    \"AdaBoost\",    \n",
    "    \"ExtraTrees\",\n",
    "    \"GradientBoosting\",\n",
    "    \"RandomForest\",\n",
    "    \"SVC\",\n",
    "    \"SVR\",\n",
    "    \"NuSVC\",\n",
    "    \"NuSVR\",\n",
    "    \"OneClassSVM\"\n",
    "]\n",
    "\n",
    "reducer_params = {\n",
    "    \"model\": estimators[0],\n",
    "    \"dry_run\": True\n",
    "}"
   ]
  },
  {
   "cell_type": "code",
   "execution_count": null,
   "metadata": {},
   "outputs": [],
   "source": [
    "for dataset_path in cwe121_v__2_dataset_path[:1]:\n",
    "    LOGGER.info(\"Processing %s...\" % dataset_path)\n",
    "    dataset = Dataset(dataset_path)\n",
    "    dataset.queue_operation(SelectFromModel, reducer_params)\n",
    "    dataset.process()"
   ]
  },
  {
   "cell_type": "markdown",
   "metadata": {},
   "source": [
    "## 05.e. Recursive feature elimination\n",
    "\n",
    "This selector removes features with the least impact on the sum of squares error.\n",
    "\n",
    "**Note:** Depending on the number of feature selected, the execution of this selector can be long."
   ]
  },
  {
   "cell_type": "code",
   "execution_count": null,
   "metadata": {},
   "outputs": [],
   "source": [
    "reducer_params = {\n",
    "    \"model\": estimators[0], \n",
    "    \"cross_validation\": False, \n",
    "    \"features\": 1000, \n",
    "    \"dry_run\": True\n",
    "}"
   ]
  },
  {
   "cell_type": "code",
   "execution_count": null,
   "metadata": {},
   "outputs": [],
   "source": [
    "for dataset_path in cwe121_v__2_dataset_path[:1]:\n",
    "    LOGGER.info(\"Processing %s...\" % dataset_path)\n",
    "    dataset = Dataset(dataset_path)\n",
    "    dataset.queue_operation(RecursiveFeatureElimination, reducer_params)\n",
    "    dataset.process()"
   ]
  },
  {
   "cell_type": "markdown",
   "metadata": {},
   "source": [
    "## 05.f. Sequential feature selection\n",
    "\n",
    "This selector adds features, given a particular `direction`, with the most impact on the sum of squares error.\n",
    "\n",
    "**Note:** Depending on the parameters selected, the execution of this selector can be long."
   ]
  },
  {
   "cell_type": "code",
   "execution_count": null,
   "metadata": {},
   "outputs": [],
   "source": [
    "directions = [\"forward\", \"backward\"]\n",
    "\n",
    "reducer_params = {\n",
    "    \"model\": estimators[0], \n",
    "    \"direction\": directions[0], \n",
    "    \"features\": 10, \n",
    "    \"dry_run\": True\n",
    "}"
   ]
  },
  {
   "cell_type": "code",
   "execution_count": null,
   "metadata": {},
   "outputs": [],
   "source": [
    "for dataset_path in cwe121_v__2_dataset_path[:1]:\n",
    "    LOGGER.info(\"Processing %s...\" % dataset_path)\n",
    "    dataset = Dataset(dataset_path)\n",
    "    dataset.queue_operation(SequentialFeatureSelector, reducer_params)\n",
    "    dataset.process()"
   ]
  },
  {
   "cell_type": "markdown",
   "metadata": {},
   "source": [
    "## 05.g. Auto encoders\n",
    "\n",
    "Defines a neural network with the same number of input and output neurons as the number of features, the hidden layers have a smaller number of neurons to perform dimension reduction."
   ]
  },
  {
   "cell_type": "code",
   "execution_count": null,
   "metadata": {},
   "outputs": [],
   "source": [
    "reducer_params = {\n",
    "    \"dimension\": 250, \n",
    "    \"layers\": \"500,100,500\", \n",
    "    \"encoder_path\": \"/tmp/encoder.mdl\", \n",
    "    \"dry_run\": True\n",
    "}"
   ]
  },
  {
   "cell_type": "code",
   "execution_count": null,
   "metadata": {},
   "outputs": [],
   "source": [
    "for dataset_path in cwe121_v__2_dataset_path[:1]:\n",
    "    LOGGER.info(\"Processing %s...\" % dataset_path)\n",
    "    dataset = Dataset(dataset_path)\n",
    "    dataset.queue_operation(AutoEncoder, reducer_params)\n",
    "    dataset.process()"
   ]
  },
  {
   "cell_type": "markdown",
   "metadata": {},
   "source": [
    "## Conclusion\n",
    "\n",
    "In this notebook, the number of features has been reduced to ease the training step described in the [next notebook](./06_models_training.ipynb)."
   ]
  }
 ],
 "metadata": {
  "kernelspec": {
   "display_name": "Python 3",
   "language": "python",
   "name": "python3"
  },
  "language_info": {
   "codemirror_mode": {
    "name": "ipython",
    "version": 3
   },
   "file_extension": ".py",
   "mimetype": "text/x-python",
   "name": "python",
   "nbconvert_exporter": "python",
   "pygments_lexer": "ipython3",
   "version": "3.6.12"
  }
 },
 "nbformat": 4,
 "nbformat_minor": 2
}
