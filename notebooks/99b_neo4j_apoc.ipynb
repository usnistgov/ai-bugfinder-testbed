{
 "cells": [
  {
   "cell_type": "markdown",
   "metadata": {},
   "source": [
    "# Neo4J APOC test\n",
    "\n",
    "A notebook to test the implementation of Neo4J APOC library "
   ]
  },
  {
   "cell_type": "code",
   "execution_count": 1,
   "metadata": {},
   "outputs": [],
   "source": [
    "# Enable these line if live changes in the codebase are made\n",
    "%load_ext autoreload\n",
    "%autoreload 2"
   ]
  },
  {
   "cell_type": "code",
   "execution_count": 2,
   "metadata": {},
   "outputs": [],
   "source": [
    "# Specific instruction to run the notebooks from a sub-folder.\n",
    "import sys\n",
    "sys.path.append(\"..\")"
   ]
  },
  {
   "cell_type": "code",
   "execution_count": 3,
   "metadata": {},
   "outputs": [],
   "source": [
    "import logging\n",
    "from bugfinder.settings import LOGGER\n",
    "from bugfinder.dataset import CWEClassificationDataset as Dataset\n",
    "from bugfinder.dataset.processing.dataset_ops import CopyDataset, RightFixer\n",
    "from bugfinder.features.any_hop.all_flows import FeatureExtractor as AnyHopAllFlowsExtractor\n",
    "from bugfinder.features.any_hop.single_flow import FeatureExtractor as AnyHopSingleFlowExtractor\n",
    "from bugfinder.features.single_hop.raw import FeatureExtractor as SingleHopRawExtractor\n",
    "from bugfinder.features.pca import FeatureExtractor as PCA"
   ]
  },
  {
   "cell_type": "code",
   "execution_count": 4,
   "metadata": {},
   "outputs": [],
   "source": [
    "# Setup logging to only output INFO level messages\n",
    "LOGGER.setLevel(logging.INFO)"
   ]
  },
  {
   "cell_type": "code",
   "execution_count": 5,
   "metadata": {},
   "outputs": [],
   "source": [
    "# Dataset directories (DO NOT EDIT)\n",
    "cwe121_v__0_dataset_path = [\n",
    "    \"../data/cwe121_v110\", \"../data/cwe121_v120\", \"../data/cwe121_v210\", \"../data/cwe121_v220\", \n",
    "#     \"../data/cwe121_v310\", \"../data/cwe121_v320\"\n",
    "]\n",
    "cwe121_v__1_dataset_path = [\n",
    "    \"../data/cwe121_v111\", \"../data/cwe121_v121\", \"../data/cwe121_v211\", \"../data/cwe121_v221\", \n",
    "#     \"../data/cwe121_v311\", \"../data/cwe121_v321\"\n",
    "]\n",
    "cwe121_v__2_dataset_path = [\n",
    "    \"../data/cwe121_v112\", \"../data/cwe121_v122\", \"../data/cwe121_v212\", \"../data/cwe121_v222\", \n",
    "#     \"../data/cwe121_v312\", \"../data/cwe121_v322\"\n",
    "]\n",
    "cwe121_v__3_dataset_path = [\n",
    "    \"../data/cwe121_v113\", \"../data/cwe121_v123\", \"../data/cwe121_v213\", \"../data/cwe121_v223\", \n",
    "#     \"../data/cwe121_v313\", \"../data/cwe121_v323\"\n",
    "]\n",
    "# cwe121_v__4_dataset_path = [\n",
    "#     \"../data/cwe121_v114\", \"../data/cwe121_v124\", \"../data/cwe121_v214\", \"../data/cwe121_v224\", \n",
    "#     \"../data/cwe121_v314\", \"../data/cwe121_v324\"\n",
    "# ]"
   ]
  },
  {
   "cell_type": "markdown",
   "metadata": {},
   "source": [
    "## Next section\n"
   ]
  },
  {
   "cell_type": "code",
   "execution_count": 6,
   "metadata": {},
   "outputs": [],
   "source": [
    "from py2neo import Graph\n",
    "from bugfinder.utils.statistics import get_time\n",
    "\n",
    "neo4j_db = Graph(\n",
    "    scheme=\"http\",\n",
    "    host=\"0.0.0.0\",\n",
    "    port=55487,\n",
    ")"
   ]
  },
  {
   "cell_type": "code",
   "execution_count": 7,
   "metadata": {},
   "outputs": [
    {
     "name": "stdout",
     "output_type": "stream",
     "text": [
      "Found 2035 entrypoints in 816ms\n"
     ]
    }
   ],
   "source": [
    "entrypoints_cmd = \"\"\"\n",
    "    MATCH (n)\n",
    "    WHERE n.ast = \"CFGEntryNode\"\n",
    "    RETURN id(n) as id_n\n",
    "\"\"\"\n",
    "start_time = get_time()\n",
    "entrypoints_list = [data[\"id_n\"] for data in neo4j_db.run(entrypoints_cmd).data()]\n",
    "print(\"Found %d entrypoints in %dms\" % (len(entrypoints_list), get_time() - start_time))"
   ]
  },
  {
   "cell_type": "code",
   "execution_count": 11,
   "metadata": {},
   "outputs": [
    {
     "name": "stdout",
     "output_type": "stream",
     "text": [
      "Spent 20950ms\n"
     ]
    }
   ],
   "source": [
    "exec_chain_cmd = \"\"\"\n",
    "    MATCH (n) WHERE id(n)=%s \n",
    "    CALL apoc.path.subgraphAll(n, {relationshipFilter: \"FLOWS_TO|REACHES|CONTROLS\"})\n",
    "    YIELD nodes, relationships\n",
    "    RETURN nodes, relationships\n",
    "\"\"\"\n",
    "\n",
    "start_time = get_time()\n",
    "\n",
    "exec_chains = [neo4j_db.run(exec_chain_cmd % entrypoint_id).data() for entrypoint_id in entrypoints_list]\n",
    "\n",
    "print(\"Spent %dms\" % (get_time() - start_time)90)"
   ]
  },
  {
   "cell_type": "code",
   "execution_count": 12,
   "metadata": {},
   "outputs": [
    {
     "name": "stdout",
     "output_type": "stream",
     "text": [
      "Spent 182ms\n"
     ]
    }
   ],
   "source": [
    "start_time = get_time()\n",
    "\n",
    "final_chains = list()\n",
    "\n",
    "for chain in exec_chains:\n",
    "    result_chain = {\n",
    "        \"nodes\": dict(),\n",
    "        \"rels\": list()\n",
    "    }\n",
    "    \n",
    "    for node in chain[0][\"nodes\"]:\n",
    "        result_chain[\"nodes\"][node.identity] = node.get(\"ast\")\n",
    "        \n",
    "    for rel in chain[0][\"relationships\"]:\n",
    "        new_rel = (\n",
    "            rel.start_node.identity,\n",
    "            type(rel).__name__,\n",
    "            rel.end_node.identity\n",
    "        )\n",
    "        result_chain[\"rels\"].append(new_rel)\n",
    "        \n",
    "    final_chains.append(result_chain)\n",
    "\n",
    "print(\"Spent %dms\" % (get_time() - start_time))"
   ]
  },
  {
   "cell_type": "code",
   "execution_count": 9,
   "metadata": {},
   "outputs": [
    {
     "name": "stdout",
     "output_type": "stream",
     "text": [
      "47046319\n",
      "13051308\n"
     ]
    }
   ],
   "source": [
    "import sys\n",
    "\n",
    "def get_size(obj, seen=None):\n",
    "    \"\"\"Recursively finds size of objects\"\"\"\n",
    "    size = sys.getsizeof(obj)\n",
    "    if seen is None:\n",
    "        seen = set()\n",
    "    obj_id = id(obj)\n",
    "    if obj_id in seen:\n",
    "        return 0\n",
    "    # Important mark as seen *before* entering recursion to gracefully handle\n",
    "    # self-referential objects\n",
    "    seen.add(obj_id)\n",
    "    if isinstance(obj, dict):\n",
    "        size += sum([get_size(v, seen) for v in obj.values()])\n",
    "        size += sum([get_size(k, seen) for k in obj.keys()])\n",
    "    elif hasattr(obj, '__dict__'):\n",
    "        size += get_size(obj.__dict__, seen)\n",
    "    elif hasattr(obj, '__iter__') and not isinstance(obj, (str, bytes, bytearray)):\n",
    "        size += sum([get_size(i, seen) for i in obj])\n",
    "    return size\n",
    "\n",
    "\n",
    "print(get_size(exec_chains))\n",
    "print(get_size(final_chains))"
   ]
  }
 ],
 "metadata": {
  "kernelspec": {
   "display_name": "Python 3",
   "language": "python",
   "name": "python3"
  },
  "language_info": {
   "codemirror_mode": {
    "name": "ipython",
    "version": 3
   },
   "file_extension": ".py",
   "mimetype": "text/x-python",
   "name": "python",
   "nbconvert_exporter": "python",
   "pygments_lexer": "ipython3",
   "version": "3.6.12"
  }
 },
 "nbformat": 4,
 "nbformat_minor": 2
}
