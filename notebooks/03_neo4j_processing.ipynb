{
 "cells": [
  {
   "cell_type": "markdown",
   "metadata": {},
   "source": [
    "# 03. Neo4J Processing\n",
    "\n",
    "In this notebook, the [previously created](./02_joern_processing.ipynb) datasets will be marked up in Neo4J. This step allows to perform feature extraction in the next step.\n",
    "\n",
    "## 03.a.  Imports, logging configuration and dataset preparation\n",
    "\n",
    "The first step is to perform the necessary imports and configure the program. Additionnally, the previously used datasets are copied into 2 different datasets to be processed by the various AST markup versions."
   ]
  },
  {
   "cell_type": "code",
   "execution_count": 1,
   "metadata": {},
   "outputs": [],
   "source": [
    "# Specific instruction to run the notebooks from a sub-folder.\n",
    "import sys\n",
    "sys.path.append(\"..\")"
   ]
  },
  {
   "cell_type": "code",
   "execution_count": 2,
   "metadata": {},
   "outputs": [],
   "source": [
    "import logging\n",
    "from tools.settings import LOGGER\n",
    "from tools.dataset import CWEClassificationDataset as Dataset\n",
    "from tools.dataset.processing.dataset_ops import CopyDataset, RightFixer\n",
    "from tools.ast.v01 import Neo4JASTMarkup as Neo4JASTMarkupV01\n",
    "from tools.ast.v02 import Neo4JASTMarkup as Neo4JASTMarkupV02"
   ]
  },
  {
   "cell_type": "code",
   "execution_count": 3,
   "metadata": {},
   "outputs": [],
   "source": [
    "# Setup logging to only output INFO level messages\n",
    "LOGGER.setLevel(logging.INFO)"
   ]
  },
  {
   "cell_type": "code",
   "execution_count": 4,
   "metadata": {},
   "outputs": [],
   "source": [
    "# Dataset directories (DO NOT EDIT)\n",
    "cwe121_v100_dataset_path = \"../data/cwe121_v100\"\n",
    "cwe121_v110_dataset_path = \"../data/cwe121_v110\"\n",
    "cwe121_v120_dataset_path = \"../data/cwe121_v120\"\n",
    "cwe121_v200_dataset_path = \"../data/cwe121_v200\"\n",
    "cwe121_v210_dataset_path = \"../data/cwe121_v210\"\n",
    "cwe121_v220_dataset_path = \"../data/cwe121_v220\"\n",
    "cwe121_v300_dataset_path = \"../data/cwe121_v300\"\n",
    "cwe121_v310_dataset_path = \"../data/cwe121_v310\"\n",
    "cwe121_v320_dataset_path = \"../data/cwe121_v320\"\n",
    "\n",
    "# Number of sample to test (edit this number, performances will be impacted, max. 6288)\n",
    "sample_nb = 200"
   ]
  },
  {
   "cell_type": "code",
   "execution_count": 5,
   "metadata": {},
   "outputs": [
    {
     "name": "stdout",
     "output_type": "stream",
     "text": [
      "[2019-12-06 14:43:36][INFO] Dataset index build in 10ms. 200 test_cases, 2 classes, 0 features (v0).\n",
      "[2019-12-06 14:43:36][INFO] Dataset index build in 10ms. 200 test_cases, 2 classes, 0 features (v0).\n",
      "[2019-12-06 14:43:36][INFO] Dataset index build in 18ms. 200 test_cases, 2 classes, 0 features (v0).\n",
      "[2019-12-06 14:43:36][INFO] Running operation 1/2 (CopyDataset)...\n",
      "[2019-12-06 14:43:36][INFO] Dataset index build in 6ms. 200 test_cases, 2 classes, 0 features (v0).\n",
      "[2019-12-06 14:43:36][INFO] Running operation 1/1 (RightFixer)...\n",
      "[2019-12-06 14:43:37][INFO] 1 operations run in 1026ms.\n",
      "[2019-12-06 14:43:38][INFO] Running operation 2/2 (CopyDataset)...\n",
      "[2019-12-06 14:43:38][INFO] Dataset index build in 7ms. 200 test_cases, 2 classes, 0 features (v0).\n",
      "[2019-12-06 14:43:38][INFO] Running operation 1/1 (RightFixer)...\n",
      "[2019-12-06 14:43:39][INFO] 1 operations run in 897ms.\n",
      "[2019-12-06 14:43:39][INFO] 2 operations run in 2298ms.\n",
      "[2019-12-06 14:43:39][INFO] Running operation 1/2 (CopyDataset)...\n",
      "[2019-12-06 14:43:39][INFO] Dataset index build in 9ms. 200 test_cases, 2 classes, 0 features (v0).\n",
      "[2019-12-06 14:43:39][INFO] Running operation 1/1 (RightFixer)...\n",
      "[2019-12-06 14:43:40][INFO] 1 operations run in 939ms.\n",
      "[2019-12-06 14:43:40][INFO] Running operation 2/2 (CopyDataset)...\n",
      "[2019-12-06 14:43:40][INFO] Dataset index build in 6ms. 200 test_cases, 2 classes, 0 features (v0).\n",
      "[2019-12-06 14:43:40][INFO] Running operation 1/1 (RightFixer)...\n",
      "[2019-12-06 14:43:41][INFO] 1 operations run in 959ms.\n",
      "[2019-12-06 14:43:41][INFO] 2 operations run in 2721ms.\n",
      "[2019-12-06 14:43:41][INFO] Running operation 1/2 (CopyDataset)...\n",
      "[2019-12-06 14:43:41][INFO] Dataset index build in 6ms. 200 test_cases, 2 classes, 0 features (v0).\n",
      "[2019-12-06 14:43:41][INFO] Running operation 1/1 (RightFixer)...\n",
      "[2019-12-06 14:43:42][INFO] 1 operations run in 912ms.\n",
      "[2019-12-06 14:43:42][INFO] Running operation 2/2 (CopyDataset)...\n",
      "[2019-12-06 14:43:42][INFO] Dataset index build in 6ms. 200 test_cases, 2 classes, 0 features (v0).\n",
      "[2019-12-06 14:43:42][INFO] Running operation 1/1 (RightFixer)...\n",
      "[2019-12-06 14:43:43][INFO] 1 operations run in 852ms.\n",
      "[2019-12-06 14:43:43][INFO] 2 operations run in 1981ms.\n"
     ]
    }
   ],
   "source": [
    "# Copy the existing dataset into 2 sub-dataset for future use.\n",
    "cwe121_v100_dataset = Dataset(cwe121_v100_dataset_path)\n",
    "cwe121_v100_dataset.queue_operation(CopyDataset, {\"to_path\": cwe121_v110_dataset_path, \"force\": True})\n",
    "cwe121_v100_dataset.queue_operation(CopyDataset, {\"to_path\": cwe121_v120_dataset_path, \"force\": True})\n",
    "\n",
    "cwe121_v200_dataset = Dataset(cwe121_v200_dataset_path)\n",
    "cwe121_v200_dataset.queue_operation(CopyDataset, {\"to_path\": cwe121_v210_dataset_path, \"force\": True})\n",
    "cwe121_v200_dataset.queue_operation(CopyDataset, {\"to_path\": cwe121_v220_dataset_path, \"force\": True})\n",
    "\n",
    "cwe121_v300_dataset = Dataset(cwe121_v300_dataset_path)\n",
    "cwe121_v300_dataset.queue_operation(CopyDataset, {\"to_path\": cwe121_v310_dataset_path, \"force\": True})\n",
    "cwe121_v300_dataset.queue_operation(CopyDataset, {\"to_path\": cwe121_v320_dataset_path, \"force\": True})\n",
    "\n",
    "cwe121_v100_dataset.process()\n",
    "cwe121_v200_dataset.process()\n",
    "cwe121_v300_dataset.process()"
   ]
  },
  {
   "cell_type": "markdown",
   "metadata": {},
   "source": [
    "## 03.b. AST Markup v01\n",
    "\n",
    "\n",
    "### Joern v0.3.1"
   ]
  },
  {
   "cell_type": "code",
   "execution_count": 6,
   "metadata": {},
   "outputs": [
    {
     "name": "stdout",
     "output_type": "stream",
     "text": [
      "[2019-12-06 14:43:47][INFO] Dataset index build in 20ms. 200 test_cases, 2 classes, 0 features (v0).\n",
      "[2019-12-06 14:43:47][INFO] Running operation 1/2 (RightFixer)...\n",
      "[2019-12-06 14:43:48][INFO] Running operation 2/2 (Neo4JASTMarkup)...\n",
      "[2019-12-06 14:43:59][INFO] Retrieving AST...\n",
      "[2019-12-06 14:44:03][INFO] 15148 item found. Slicing AST...\n",
      "[2019-12-06 14:44:03][INFO] 8 commands prepared\n",
      "[2019-12-06 14:44:03][INFO] Prepping command...\n",
      "[2019-12-06 14:44:03][INFO] Updating AST...\n",
      "[2019-12-06 14:44:08][INFO] Prepping command...\n",
      "[2019-12-06 14:44:08][INFO] Updating AST...\n",
      "[2019-12-06 14:44:11][INFO] Prepping command...\n",
      "[2019-12-06 14:44:11][INFO] Updating AST...\n",
      "[2019-12-06 14:44:13][INFO] Prepping command...\n",
      "[2019-12-06 14:44:13][INFO] Updating AST...\n",
      "[2019-12-06 14:44:15][INFO] Prepping command...\n",
      "[2019-12-06 14:44:15][INFO] Updating AST...\n",
      "[2019-12-06 14:44:18][INFO] Prepping command...\n",
      "[2019-12-06 14:44:18][INFO] Updating AST...\n",
      "[2019-12-06 14:44:20][INFO] Prepping command...\n",
      "[2019-12-06 14:44:20][INFO] Updating AST...\n",
      "[2019-12-06 14:44:22][INFO] Prepping command...\n",
      "[2019-12-06 14:44:22][INFO] Updating AST...\n",
      "[2019-12-06 14:44:24][INFO] AST updated\n",
      "[2019-12-06 14:44:25][INFO] 2 operations run in 37752ms.\n"
     ]
    }
   ],
   "source": [
    "cwe121_v110_dataset = Dataset(cwe121_v110_dataset_path)\n",
    "cwe121_v110_dataset.queue_operation(RightFixer, {\"command_args\": \"neo4j_v3.db 101 101\"})\n",
    "cwe121_v110_dataset.queue_operation(Neo4JASTMarkupV01)\n",
    "cwe121_v110_dataset.process()"
   ]
  },
  {
   "cell_type": "markdown",
   "metadata": {},
   "source": [
    "### Joern v0.4.0"
   ]
  },
  {
   "cell_type": "code",
   "execution_count": 8,
   "metadata": {},
   "outputs": [
    {
     "name": "stdout",
     "output_type": "stream",
     "text": [
      "[2019-12-06 14:44:59][INFO] Dataset index build in 23ms. 200 test_cases, 2 classes, 0 features (v0).\n",
      "[2019-12-06 14:44:59][INFO] Running operation 1/2 (RightFixer)...\n",
      "[2019-12-06 14:45:00][INFO] Running operation 2/2 (Neo4JASTMarkup)...\n",
      "[2019-12-06 14:45:11][INFO] Retrieving AST...\n",
      "[2019-12-06 14:45:16][INFO] 15164 item found. Slicing AST...\n",
      "[2019-12-06 14:45:16][INFO] 8 commands prepared\n",
      "[2019-12-06 14:45:16][INFO] Prepping command...\n",
      "[2019-12-06 14:45:16][INFO] Updating AST...\n",
      "[2019-12-06 14:45:23][INFO] Prepping command...\n",
      "[2019-12-06 14:45:23][INFO] Updating AST...\n",
      "[2019-12-06 14:45:25][INFO] Prepping command...\n",
      "[2019-12-06 14:45:25][INFO] Updating AST...\n",
      "[2019-12-06 14:45:28][INFO] Prepping command...\n",
      "[2019-12-06 14:45:28][INFO] Updating AST...\n",
      "[2019-12-06 14:45:30][INFO] Prepping command...\n",
      "[2019-12-06 14:45:31][INFO] Updating AST...\n",
      "[2019-12-06 14:45:33][INFO] Prepping command...\n",
      "[2019-12-06 14:45:33][INFO] Updating AST...\n",
      "[2019-12-06 14:45:35][INFO] Prepping command...\n",
      "[2019-12-06 14:45:35][INFO] Updating AST...\n",
      "[2019-12-06 14:45:37][INFO] Prepping command...\n",
      "[2019-12-06 14:45:37][INFO] Updating AST...\n",
      "[2019-12-06 14:45:39][INFO] AST updated\n",
      "[2019-12-06 14:45:40][INFO] 2 operations run in 41086ms.\n"
     ]
    }
   ],
   "source": [
    "cwe121_v210_dataset = Dataset(cwe121_v210_dataset_path)\n",
    "cwe121_v210_dataset.queue_operation(RightFixer, {\"command_args\": \"neo4j_v3.db 101 101\"})\n",
    "cwe121_v210_dataset.queue_operation(Neo4JASTMarkupV01)\n",
    "cwe121_v210_dataset.process()"
   ]
  },
  {
   "cell_type": "markdown",
   "metadata": {},
   "source": [
    "### Joern v1.0.62"
   ]
  },
  {
   "cell_type": "code",
   "execution_count": null,
   "metadata": {},
   "outputs": [],
   "source": [
    "# Coming soon™...\n",
    "# cwe121_v310_dataset = Dataset(cwe121_v310_dataset_path)\n",
    "# ..."
   ]
  },
  {
   "cell_type": "markdown",
   "metadata": {},
   "source": [
    "## 03.c. AST Markup v02\n",
    "\n",
    "### Joern 0.3.1"
   ]
  },
  {
   "cell_type": "code",
   "execution_count": 7,
   "metadata": {},
   "outputs": [
    {
     "name": "stdout",
     "output_type": "stream",
     "text": [
      "[2019-12-06 14:44:31][INFO] Dataset index build in 12ms. 200 test_cases, 2 classes, 0 features (v0).\n",
      "[2019-12-06 14:44:31][INFO] Running operation 1/2 (RightFixer)...\n",
      "[2019-12-06 14:44:32][INFO] Running operation 2/2 (Neo4JASTMarkup)...\n",
      "[2019-12-06 14:44:42][INFO] Connected to Neo4j. Retrieving nodes...\n",
      "[2019-12-06 14:44:44][INFO] 3918 nodes found. Processing...\n",
      "[2019-12-06 14:44:44][INFO] Querying nodes...\n",
      "[2019-12-06 14:44:45][INFO] Node info retrieved. Querying links...\n",
      "[2019-12-06 14:44:49][INFO] Links info retrieved. Building tree...\n",
      "[2019-12-06 14:44:51][INFO] Tree built. Uploading ASTs...\n",
      "[2019-12-06 14:44:51][INFO] Update dict generated (3918 entries). Uploading...\n",
      "[2019-12-06 14:44:51][INFO] 2 commands prepared\n",
      "[2019-12-06 14:44:51][INFO] Prepping command...\n",
      "[2019-12-06 14:44:51][INFO] Updating AST...\n",
      "[2019-12-06 14:44:55][INFO] Prepping command...\n",
      "[2019-12-06 14:44:55][INFO] Updating AST...\n",
      "[2019-12-06 14:44:58][INFO] Processing completed.\n",
      "[2019-12-06 14:44:59][INFO] 2 operations run in 28234ms.\n"
     ]
    }
   ],
   "source": [
    "cwe121_v120_dataset = Dataset(cwe121_v120_dataset_path)\n",
    "cwe121_v120_dataset.queue_operation(RightFixer, {\"command_args\": \"neo4j_v3.db 101 101\"})\n",
    "cwe121_v120_dataset.queue_operation(Neo4JASTMarkupV02)\n",
    "cwe121_v120_dataset.process()"
   ]
  },
  {
   "cell_type": "markdown",
   "metadata": {},
   "source": [
    "### Joern v0.4.0"
   ]
  },
  {
   "cell_type": "code",
   "execution_count": 9,
   "metadata": {},
   "outputs": [
    {
     "name": "stdout",
     "output_type": "stream",
     "text": [
      "[2019-12-06 14:46:27][INFO] Dataset index build in 7ms. 200 test_cases, 2 classes, 0 features (v0).\n",
      "[2019-12-06 14:46:27][INFO] Running operation 1/2 (RightFixer)...\n",
      "[2019-12-06 14:46:28][INFO] Running operation 2/2 (Neo4JASTMarkup)...\n",
      "[2019-12-06 14:46:36][INFO] Connected to Neo4j. Retrieving nodes...\n",
      "[2019-12-06 14:46:38][INFO] 3838 nodes found. Processing...\n",
      "[2019-12-06 14:46:38][INFO] Querying nodes...\n",
      "[2019-12-06 14:46:39][INFO] Node info retrieved. Querying links...\n",
      "[2019-12-06 14:46:42][INFO] Links info retrieved. Building tree...\n",
      "[2019-12-06 14:46:44][INFO] Tree built. Uploading ASTs...\n",
      "[2019-12-06 14:46:44][INFO] Update dict generated (3838 entries). Uploading...\n",
      "[2019-12-06 14:46:44][INFO] 2 commands prepared\n",
      "[2019-12-06 14:46:44][INFO] Prepping command...\n",
      "[2019-12-06 14:46:44][INFO] Updating AST...\n",
      "[2019-12-06 14:46:47][INFO] Prepping command...\n",
      "[2019-12-06 14:46:47][INFO] Updating AST...\n",
      "[2019-12-06 14:46:50][INFO] Processing completed.\n",
      "[2019-12-06 14:46:51][INFO] 2 operations run in 23818ms.\n"
     ]
    }
   ],
   "source": [
    "cwe121_v220_dataset = Dataset(cwe121_v220_dataset_path)\n",
    "cwe121_v220_dataset.queue_operation(RightFixer, {\"command_args\": \"neo4j_v3.db 101 101\"})\n",
    "cwe121_v220_dataset.queue_operation(Neo4JASTMarkupV02)\n",
    "cwe121_v220_dataset.process()"
   ]
  },
  {
   "cell_type": "markdown",
   "metadata": {},
   "source": [
    "### Joern v1.0.62"
   ]
  },
  {
   "cell_type": "code",
   "execution_count": null,
   "metadata": {},
   "outputs": [],
   "source": [
    "# Coming soon™...\n",
    "# cwe121_v320_dataset = Dataset(cwe121_v320_dataset_path)\n",
    "# ..."
   ]
  },
  {
   "cell_type": "markdown",
   "metadata": {},
   "source": [
    "## Conclusion\n",
    "\n",
    "In this notebook, the previously parsed datasets were annotated to ease feature extraction. The [next notebook](./04_feature_extraction.ipynb) performs the feature extraction to finally train the various models."
   ]
  }
 ],
 "metadata": {
  "kernelspec": {
   "display_name": "Python 3",
   "language": "python",
   "name": "python3"
  },
  "language_info": {
   "codemirror_mode": {
    "name": "ipython",
    "version": 3
   },
   "file_extension": ".py",
   "mimetype": "text/x-python",
   "name": "python",
   "nbconvert_exporter": "python",
   "pygments_lexer": "ipython3",
   "version": "3.6.8"
  }
 },
 "nbformat": 4,
 "nbformat_minor": 2
}
