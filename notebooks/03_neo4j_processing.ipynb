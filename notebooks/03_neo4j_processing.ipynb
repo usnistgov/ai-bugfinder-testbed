{
 "cells": [
  {
   "cell_type": "markdown",
   "metadata": {},
   "source": [
    "# 03. Neo4J Processing\n",
    "\n",
    "In this notebook, the [previously created](./02_joern_processing.ipynb) datasets will be marked up in Neo4J. This step allows to perform feature extraction in the next step.\n",
    "\n",
    "## 03.a.  Imports, logging configuration and dataset preparation\n",
    "\n",
    "The first step is to perform the necessary imports and configure the program. Additionnally, the previously used datasets are copied into 2 different datasets to be processed by the various AST markup versions."
   ]
  },
  {
   "cell_type": "code",
   "execution_count": 1,
   "metadata": {},
   "outputs": [],
   "source": [
    "# Enable these line if live changes in the codebase are made\n",
    "# %load_ext autoreload\n",
    "# %autoreload 2"
   ]
  },
  {
   "cell_type": "code",
   "execution_count": 2,
   "metadata": {},
   "outputs": [],
   "source": [
    "# Specific instruction to run the notebooks from a sub-folder.\n",
    "import sys\n",
    "sys.path.append(\"..\")"
   ]
  },
  {
   "cell_type": "code",
   "execution_count": 3,
   "metadata": {},
   "outputs": [],
   "source": [
    "import logging\n",
    "from bugfinder.settings import LOGGER\n",
    "from bugfinder.dataset import CWEClassificationDataset as Dataset\n",
    "from bugfinder.dataset.processing.dataset_ops import CopyDataset, RightFixer\n",
    "from bugfinder.ast.v01 import Neo4JASTMarkup as Neo4JASTMarkupV01\n",
    "from bugfinder.ast.v02 import Neo4JASTMarkup as Neo4JASTMarkupV02"
   ]
  },
  {
   "cell_type": "code",
   "execution_count": 4,
   "metadata": {},
   "outputs": [],
   "source": [
    "# Setup logging to only output INFO level messages\n",
    "LOGGER.setLevel(logging.INFO)"
   ]
  },
  {
   "cell_type": "code",
   "execution_count": 5,
   "metadata": {},
   "outputs": [],
   "source": [
    "# Dataset directories (DO NOT EDIT)\n",
    "cwe121_v100_dataset_path = \"../data/cwe121_v100\"\n",
    "cwe121_v110_dataset_path = \"../data/cwe121_v110\"\n",
    "cwe121_v120_dataset_path = \"../data/cwe121_v120\"\n",
    "cwe121_v200_dataset_path = \"../data/cwe121_v200\"\n",
    "cwe121_v210_dataset_path = \"../data/cwe121_v210\"\n",
    "cwe121_v220_dataset_path = \"../data/cwe121_v220\"\n",
    "cwe121_v300_dataset_path = \"../data/cwe121_v300\"\n",
    "cwe121_v310_dataset_path = \"../data/cwe121_v310\"\n",
    "cwe121_v320_dataset_path = \"../data/cwe121_v320\"\n",
    "\n",
    "# Number of sample to test (edit this number, performances will be impacted, max. 6288)\n",
    "sample_nb = 200"
   ]
  },
  {
   "cell_type": "code",
   "execution_count": 6,
   "metadata": {},
   "outputs": [
    {
     "name": "stdout",
     "output_type": "stream",
     "text": [
      "[2020-06-03 15:52:17][INFO] Dataset index build in 10ms. 200 test_cases, 2 classes, 0 features (v0).\n",
      "[2020-06-03 15:52:17][INFO] Dataset index build in 10ms. 200 test_cases, 2 classes, 0 features (v0).\n",
      "[2020-06-03 15:52:17][INFO] Dataset index build in 21ms. 200 test_cases, 2 classes, 0 features (v0).\n",
      "[2020-06-03 15:52:17][INFO] Running operation 1/2 (CopyDataset)...\n",
      "[2020-06-03 15:52:18][INFO] Dataset index build in 9ms. 200 test_cases, 2 classes, 0 features (v0).\n",
      "[2020-06-03 15:52:18][INFO] Running operation 2/2 (CopyDataset)...\n",
      "[2020-06-03 15:52:18][INFO] Dataset index build in 19ms. 200 test_cases, 2 classes, 0 features (v0).\n",
      "[2020-06-03 15:52:18][INFO] 2 operations run in 380ms.\n",
      "[2020-06-03 15:52:18][INFO] Running operation 1/2 (CopyDataset)...\n",
      "[2020-06-03 15:52:18][INFO] Dataset index build in 6ms. 200 test_cases, 2 classes, 0 features (v0).\n",
      "[2020-06-03 15:52:18][INFO] Running operation 2/2 (CopyDataset)...\n",
      "[2020-06-03 15:52:18][INFO] Dataset index build in 11ms. 200 test_cases, 2 classes, 0 features (v0).\n",
      "[2020-06-03 15:52:18][INFO] 2 operations run in 581ms.\n",
      "[2020-06-03 15:52:18][INFO] Running operation 1/2 (CopyDataset)...\n",
      "[2020-06-03 15:52:19][INFO] Dataset index build in 7ms. 200 test_cases, 2 classes, 0 features (v0).\n",
      "[2020-06-03 15:52:19][INFO] Running operation 2/2 (CopyDataset)...\n",
      "[2020-06-03 15:52:19][INFO] Dataset index build in 8ms. 200 test_cases, 2 classes, 0 features (v0).\n",
      "[2020-06-03 15:52:19][INFO] 2 operations run in 189ms.\n"
     ]
    },
    {
     "data": {
      "text/plain": [
       "<DatasetQueueRetCode.OK: 0>"
      ]
     },
     "execution_count": 6,
     "metadata": {},
     "output_type": "execute_result"
    }
   ],
   "source": [
    "# Copy the existing dataset into 2 sub-dataset for future use.\n",
    "cwe121_v100_dataset = Dataset(cwe121_v100_dataset_path)\n",
    "cwe121_v100_dataset.queue_operation(CopyDataset, {\"to_path\": cwe121_v110_dataset_path, \"force\": True})\n",
    "cwe121_v100_dataset.queue_operation(CopyDataset, {\"to_path\": cwe121_v120_dataset_path, \"force\": True})\n",
    "\n",
    "cwe121_v200_dataset = Dataset(cwe121_v200_dataset_path)\n",
    "cwe121_v200_dataset.queue_operation(CopyDataset, {\"to_path\": cwe121_v210_dataset_path, \"force\": True})\n",
    "cwe121_v200_dataset.queue_operation(CopyDataset, {\"to_path\": cwe121_v220_dataset_path, \"force\": True})\n",
    "\n",
    "cwe121_v300_dataset = Dataset(cwe121_v300_dataset_path)\n",
    "cwe121_v300_dataset.queue_operation(CopyDataset, {\"to_path\": cwe121_v310_dataset_path, \"force\": True})\n",
    "cwe121_v300_dataset.queue_operation(CopyDataset, {\"to_path\": cwe121_v320_dataset_path, \"force\": True})\n",
    "\n",
    "cwe121_v100_dataset.process()\n",
    "cwe121_v200_dataset.process()\n",
    "cwe121_v300_dataset.process()"
   ]
  },
  {
   "cell_type": "markdown",
   "metadata": {},
   "source": [
    "## 03.b. AST Markup v01\n",
    "\n",
    "\n",
    "### Joern v0.3.1"
   ]
  },
  {
   "cell_type": "code",
   "execution_count": 7,
   "metadata": {},
   "outputs": [
    {
     "name": "stdout",
     "output_type": "stream",
     "text": [
      "[2020-06-03 15:52:49][INFO] Dataset index build in 10ms. 200 test_cases, 2 classes, 0 features (v0).\n",
      "[2020-06-03 15:52:49][INFO] Running operation 1/1 (Neo4JASTMarkup)...\n",
      "[2020-06-03 15:52:50][INFO] Running operation 1/1 (RightFixer)...\n",
      "[2020-06-03 15:52:51][INFO] 1 operations run in 1362ms.\n",
      "[2020-06-03 15:53:07][INFO] Retrieving AST...\n",
      "[2020-06-03 15:53:23][INFO] 16620 item found. Creating command bundles...\n",
      "[2020-06-03 15:53:23][INFO] 9 bundles prepared.\n",
      "[2020-06-03 15:53:41][INFO] AST command successfully run.\n",
      "[2020-06-03 15:53:46][INFO] AST command successfully run.\n",
      "[2020-06-03 15:53:51][INFO] AST command successfully run.\n",
      "[2020-06-03 15:53:55][INFO] AST command successfully run.\n",
      "[2020-06-03 15:53:58][INFO] AST command successfully run.\n",
      "[2020-06-03 15:54:02][INFO] AST command successfully run.\n",
      "[2020-06-03 15:54:06][INFO] AST command successfully run.\n",
      "[2020-06-03 15:54:10][INFO] AST command successfully run.\n",
      "[2020-06-03 15:54:13][INFO] AST command successfully run.\n",
      "[2020-06-03 15:54:13][INFO] AST updated\n",
      "[2020-06-03 15:54:16][INFO] 1 operations run in 87073ms.\n"
     ]
    },
    {
     "data": {
      "text/plain": [
       "<DatasetQueueRetCode.OK: 0>"
      ]
     },
     "execution_count": 7,
     "metadata": {},
     "output_type": "execute_result"
    }
   ],
   "source": [
    "cwe121_v110_dataset = Dataset(cwe121_v110_dataset_path)\n",
    "cwe121_v110_dataset.queue_operation(Neo4JASTMarkupV01)\n",
    "cwe121_v110_dataset.process()"
   ]
  },
  {
   "cell_type": "markdown",
   "metadata": {},
   "source": [
    "### Joern v0.4.0"
   ]
  },
  {
   "cell_type": "code",
   "execution_count": 8,
   "metadata": {},
   "outputs": [
    {
     "name": "stdout",
     "output_type": "stream",
     "text": [
      "[2020-06-03 15:54:16][INFO] Dataset index build in 175ms. 200 test_cases, 2 classes, 0 features (v0).\n",
      "[2020-06-03 15:54:16][INFO] Running operation 1/1 (Neo4JASTMarkup)...\n",
      "[2020-06-03 15:54:18][INFO] Running operation 1/1 (RightFixer)...\n",
      "[2020-06-03 15:54:20][INFO] 1 operations run in 1900ms.\n",
      "[2020-06-03 15:54:35][INFO] Retrieving AST...\n",
      "[2020-06-03 15:54:47][INFO] 16630 item found. Creating command bundles...\n",
      "[2020-06-03 15:54:47][INFO] 9 bundles prepared.\n",
      "[2020-06-03 15:54:58][INFO] AST command successfully run.\n",
      "[2020-06-03 15:55:03][INFO] AST command successfully run.\n",
      "[2020-06-03 15:55:06][INFO] AST command successfully run.\n",
      "[2020-06-03 15:55:11][INFO] AST command successfully run.\n",
      "[2020-06-03 15:55:14][INFO] AST command successfully run.\n",
      "[2020-06-03 15:55:18][INFO] AST command successfully run.\n",
      "[2020-06-03 15:55:21][INFO] AST command successfully run.\n",
      "[2020-06-03 15:55:24][INFO] AST command successfully run.\n",
      "[2020-06-03 15:55:26][INFO] AST command successfully run.\n",
      "[2020-06-03 15:55:26][INFO] AST updated\n",
      "[2020-06-03 15:55:28][INFO] 1 operations run in 71521ms.\n"
     ]
    },
    {
     "data": {
      "text/plain": [
       "<DatasetQueueRetCode.OK: 0>"
      ]
     },
     "execution_count": 8,
     "metadata": {},
     "output_type": "execute_result"
    }
   ],
   "source": [
    "cwe121_v210_dataset = Dataset(cwe121_v210_dataset_path)\n",
    "cwe121_v210_dataset.queue_operation(Neo4JASTMarkupV01)\n",
    "cwe121_v210_dataset.process()"
   ]
  },
  {
   "cell_type": "markdown",
   "metadata": {},
   "source": [
    "### Joern v1.0.62"
   ]
  },
  {
   "cell_type": "code",
   "execution_count": 9,
   "metadata": {},
   "outputs": [],
   "source": [
    "# Coming soon™...\n",
    "# cwe121_v310_dataset = Dataset(cwe121_v310_dataset_path)\n",
    "# ..."
   ]
  },
  {
   "cell_type": "markdown",
   "metadata": {},
   "source": [
    "## 03.c. AST Markup v02\n",
    "\n",
    "### Joern 0.3.1"
   ]
  },
  {
   "cell_type": "code",
   "execution_count": 10,
   "metadata": {},
   "outputs": [
    {
     "name": "stdout",
     "output_type": "stream",
     "text": [
      "[2020-06-03 15:55:28][INFO] Dataset index build in 156ms. 200 test_cases, 2 classes, 0 features (v0).\n",
      "[2020-06-03 15:55:28][INFO] Running operation 1/1 (Neo4JASTMarkup)...\n",
      "[2020-06-03 15:55:30][INFO] Running operation 1/1 (RightFixer)...\n",
      "[2020-06-03 15:55:31][INFO] 1 operations run in 1810ms.\n",
      "[2020-06-03 15:55:47][INFO] Retrieving AST...\n",
      "[2020-06-03 15:56:55][INFO] 4314 item found. Creating command bundles...\n",
      "[2020-06-03 15:56:55][INFO] 3 bundles prepared.\n",
      "[2020-06-03 15:57:03][INFO] AST command successfully run.\n",
      "[2020-06-03 15:57:06][INFO] AST command successfully run.\n",
      "[2020-06-03 15:57:07][INFO] AST command successfully run.\n",
      "[2020-06-03 15:57:07][INFO] AST updated\n",
      "[2020-06-03 15:57:08][INFO] 1 operations run in 99639ms.\n"
     ]
    },
    {
     "data": {
      "text/plain": [
       "<DatasetQueueRetCode.OK: 0>"
      ]
     },
     "execution_count": 10,
     "metadata": {},
     "output_type": "execute_result"
    }
   ],
   "source": [
    "cwe121_v120_dataset = Dataset(cwe121_v120_dataset_path)\n",
    "cwe121_v120_dataset.queue_operation(Neo4JASTMarkupV02)\n",
    "cwe121_v120_dataset.process()"
   ]
  },
  {
   "cell_type": "markdown",
   "metadata": {},
   "source": [
    "### Joern v0.4.0"
   ]
  },
  {
   "cell_type": "code",
   "execution_count": 11,
   "metadata": {},
   "outputs": [
    {
     "name": "stdout",
     "output_type": "stream",
     "text": [
      "[2020-06-03 15:57:08][INFO] Dataset index build in 114ms. 200 test_cases, 2 classes, 0 features (v0).\n",
      "[2020-06-03 15:57:08][INFO] Running operation 1/1 (Neo4JASTMarkup)...\n",
      "[2020-06-03 15:57:09][INFO] Running operation 1/1 (RightFixer)...\n",
      "[2020-06-03 15:57:11][INFO] 1 operations run in 2366ms.\n",
      "[2020-06-03 15:57:26][INFO] Retrieving AST...\n",
      "[2020-06-03 15:58:31][INFO] 4264 item found. Creating command bundles...\n",
      "[2020-06-03 15:58:31][INFO] 3 bundles prepared.\n",
      "[2020-06-03 15:58:40][INFO] AST command successfully run.\n",
      "[2020-06-03 15:58:44][INFO] AST command successfully run.\n",
      "[2020-06-03 15:58:44][INFO] AST command successfully run.\n",
      "[2020-06-03 15:58:44][INFO] AST updated\n",
      "[2020-06-03 15:58:46][INFO] 1 operations run in 98454ms.\n"
     ]
    },
    {
     "data": {
      "text/plain": [
       "<DatasetQueueRetCode.OK: 0>"
      ]
     },
     "execution_count": 11,
     "metadata": {},
     "output_type": "execute_result"
    }
   ],
   "source": [
    "cwe121_v220_dataset = Dataset(cwe121_v220_dataset_path)\n",
    "cwe121_v220_dataset.queue_operation(Neo4JASTMarkupV02)\n",
    "cwe121_v220_dataset.process()"
   ]
  },
  {
   "cell_type": "markdown",
   "metadata": {},
   "source": [
    "### Joern v1.0.62"
   ]
  },
  {
   "cell_type": "code",
   "execution_count": null,
   "metadata": {},
   "outputs": [],
   "source": [
    "# Coming soon™...\n",
    "# cwe121_v320_dataset = Dataset(cwe121_v320_dataset_path)\n",
    "# ..."
   ]
  },
  {
   "cell_type": "markdown",
   "metadata": {},
   "source": [
    "## Conclusion\n",
    "\n",
    "In this notebook, the previously parsed datasets were annotated to ease feature extraction. The [next notebook](./04_feature_extraction.ipynb) performs the feature extraction to finally train the various models."
   ]
  }
 ],
 "metadata": {
  "kernelspec": {
   "display_name": "Python 3",
   "language": "python",
   "name": "python3"
  },
  "language_info": {
   "codemirror_mode": {
    "name": "ipython",
    "version": 3
   },
   "file_extension": ".py",
   "mimetype": "text/x-python",
   "name": "python",
   "nbconvert_exporter": "python",
   "pygments_lexer": "ipython3",
   "version": "3.6.8"
  }
 },
 "nbformat": 4,
 "nbformat_minor": 2
}
