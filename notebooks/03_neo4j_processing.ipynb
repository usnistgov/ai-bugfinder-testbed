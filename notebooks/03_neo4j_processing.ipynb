{
 "cells": [
  {
   "cell_type": "markdown",
   "metadata": {},
   "source": [
    "# 03. Neo4J Processing\n",
    "\n",
    "In this notebook, the [previously created](./02_joern_processing.ipynb) datasets will be marked up in Neo4J. This step allows to perform feature extraction in the next step.\n",
    "\n",
    "## 03.a.  Imports, logging configuration and dataset preparation\n",
    "\n",
    "The first step is to perform the necessary imports and configure the program. Additionnally, the previously used datasets are copied into 2 different datasets to be processed by the various AST markup versions."
   ]
  },
  {
   "cell_type": "code",
   "execution_count": null,
   "metadata": {},
   "outputs": [],
   "source": [
    "# Enable these line if live changes in the codebase are made\n",
    "# %load_ext autoreload\n",
    "# %autoreload 2"
   ]
  },
  {
   "cell_type": "code",
   "execution_count": null,
   "metadata": {},
   "outputs": [],
   "source": [
    "# Specific instruction to run the notebooks from a sub-folder.\n",
    "import sys\n",
    "sys.path.append(\"..\")"
   ]
  },
  {
   "cell_type": "code",
   "execution_count": null,
   "metadata": {},
   "outputs": [],
   "source": [
    "import logging\n",
    "from bugfinder.settings import LOGGER\n",
    "from bugfinder.dataset import CWEClassificationDataset as Dataset\n",
    "from bugfinder.dataset.processing.dataset_ops import CopyDataset, RightFixer\n",
    "from bugfinder.ast.v01 import Neo4JASTMarkup as Neo4JASTMarkupV01\n",
    "from bugfinder.ast.v02 import Neo4JASTMarkup as Neo4JASTMarkupV02"
   ]
  },
  {
   "cell_type": "code",
   "execution_count": null,
   "metadata": {},
   "outputs": [],
   "source": [
    "# Setup logging to only output INFO level messages\n",
    "LOGGER.setLevel(logging.INFO)"
   ]
  },
  {
   "cell_type": "code",
   "execution_count": null,
   "metadata": {},
   "outputs": [],
   "source": [
    "# Dataset directories (DO NOT EDIT)\n",
    "cwe121_v100_dataset_path = \"../data/cwe121_v100\"\n",
    "cwe121_v110_dataset_path = \"../data/cwe121_v110\"\n",
    "cwe121_v120_dataset_path = \"../data/cwe121_v120\"\n",
    "cwe121_v200_dataset_path = \"../data/cwe121_v200\"\n",
    "cwe121_v210_dataset_path = \"../data/cwe121_v210\"\n",
    "cwe121_v220_dataset_path = \"../data/cwe121_v220\"\n",
    "cwe121_v300_dataset_path = \"../data/cwe121_v300\"\n",
    "cwe121_v310_dataset_path = \"../data/cwe121_v310\"\n",
    "cwe121_v320_dataset_path = \"../data/cwe121_v320\""
   ]
  },
  {
   "cell_type": "code",
   "execution_count": null,
   "metadata": {},
   "outputs": [],
   "source": [
    "# Copy the existing dataset into 2 sub-dataset for future use.\n",
    "cwe121_v100_dataset = Dataset(cwe121_v100_dataset_path)\n",
    "cwe121_v100_dataset.queue_operation(CopyDataset, {\"to_path\": cwe121_v110_dataset_path, \"force\": True})\n",
    "cwe121_v100_dataset.queue_operation(CopyDataset, {\"to_path\": cwe121_v120_dataset_path, \"force\": True})\n",
    "\n",
    "cwe121_v200_dataset = Dataset(cwe121_v200_dataset_path)\n",
    "cwe121_v200_dataset.queue_operation(CopyDataset, {\"to_path\": cwe121_v210_dataset_path, \"force\": True})\n",
    "cwe121_v200_dataset.queue_operation(CopyDataset, {\"to_path\": cwe121_v220_dataset_path, \"force\": True})\n",
    "\n",
    "cwe121_v300_dataset = Dataset(cwe121_v300_dataset_path)\n",
    "cwe121_v300_dataset.queue_operation(CopyDataset, {\"to_path\": cwe121_v310_dataset_path, \"force\": True})\n",
    "cwe121_v300_dataset.queue_operation(CopyDataset, {\"to_path\": cwe121_v320_dataset_path, \"force\": True})\n",
    "\n",
    "cwe121_v100_dataset.process()\n",
    "cwe121_v200_dataset.process()\n",
    "cwe121_v300_dataset.process()"
   ]
  },
  {
   "cell_type": "markdown",
   "metadata": {},
   "source": [
    "## 03.b. AST Markup v01\n",
    "\n",
    "\n",
    "### Joern v0.3.1"
   ]
  },
  {
   "cell_type": "code",
   "execution_count": null,
   "metadata": {},
   "outputs": [],
   "source": [
    "cwe121_v110_dataset = Dataset(cwe121_v110_dataset_path)\n",
    "cwe121_v110_dataset.queue_operation(Neo4JASTMarkupV01)\n",
    "cwe121_v110_dataset.process()"
   ]
  },
  {
   "cell_type": "markdown",
   "metadata": {},
   "source": [
    "### Joern v0.4.0"
   ]
  },
  {
   "cell_type": "code",
   "execution_count": null,
   "metadata": {},
   "outputs": [],
   "source": [
    "cwe121_v210_dataset = Dataset(cwe121_v210_dataset_path)\n",
    "cwe121_v210_dataset.queue_operation(Neo4JASTMarkupV01)\n",
    "cwe121_v210_dataset.process()"
   ]
  },
  {
   "cell_type": "markdown",
   "metadata": {},
   "source": [
    "### Joern v1.0.62"
   ]
  },
  {
   "cell_type": "code",
   "execution_count": null,
   "metadata": {},
   "outputs": [],
   "source": [
    "# Coming soon™...\n",
    "# cwe121_v310_dataset = Dataset(cwe121_v310_dataset_path)\n",
    "# ..."
   ]
  },
  {
   "cell_type": "markdown",
   "metadata": {},
   "source": [
    "## 03.c. AST Markup v02\n",
    "\n",
    "### Joern 0.3.1"
   ]
  },
  {
   "cell_type": "code",
   "execution_count": null,
   "metadata": {},
   "outputs": [],
   "source": [
    "cwe121_v120_dataset = Dataset(cwe121_v120_dataset_path)\n",
    "cwe121_v120_dataset.queue_operation(Neo4JASTMarkupV02)\n",
    "cwe121_v120_dataset.process()"
   ]
  },
  {
   "cell_type": "markdown",
   "metadata": {},
   "source": [
    "### Joern v0.4.0"
   ]
  },
  {
   "cell_type": "code",
   "execution_count": null,
   "metadata": {},
   "outputs": [],
   "source": [
    "cwe121_v220_dataset = Dataset(cwe121_v220_dataset_path)\n",
    "cwe121_v220_dataset.queue_operation(Neo4JASTMarkupV02)\n",
    "cwe121_v220_dataset.process()"
   ]
  },
  {
   "cell_type": "markdown",
   "metadata": {},
   "source": [
    "### Joern v1.0.62"
   ]
  },
  {
   "cell_type": "code",
   "execution_count": null,
   "metadata": {},
   "outputs": [],
   "source": [
    "# Coming soon™...\n",
    "# cwe121_v320_dataset = Dataset(cwe121_v320_dataset_path)\n",
    "# ..."
   ]
  },
  {
   "cell_type": "markdown",
   "metadata": {},
   "source": [
    "## Conclusion\n",
    "\n",
    "In this notebook, the previously parsed datasets were annotated to ease feature extraction. The [next notebook](./04_feature_extraction.ipynb) performs the feature extraction to finally train the various models."
   ]
  }
 ],
 "metadata": {
  "kernelspec": {
   "display_name": "Python 3",
   "language": "python",
   "name": "python3"
  },
  "language_info": {
   "codemirror_mode": {
    "name": "ipython",
    "version": 3
   },
   "file_extension": ".py",
   "mimetype": "text/x-python",
   "name": "python",
   "nbconvert_exporter": "python",
   "pygments_lexer": "ipython3",
   "version": "3.6.12"
  }
 },
 "nbformat": 4,
 "nbformat_minor": 2
}
