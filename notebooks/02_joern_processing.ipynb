{
 "cells": [
  {
   "cell_type": "markdown",
   "metadata": {},
   "source": [
    "# 02. Joern Processing\n",
    "\n",
    "In this notebook, the [previously created](./01_pre_processing.ipynb) dataset will be parsed using various version of Joern. The parsed data will then be imported or converted into a Neo4J v3 database for further processing.\n",
    "\n",
    "## 02.a.  Imports, logging configuration and dataset preparation\n",
    "\n",
    "The first step is to perform the necessary imports and configure the program. Additionnally, the previously used dataset is copied into 3 different datasets to be processed by the various Joern versions."
   ]
  },
  {
   "cell_type": "code",
   "execution_count": 1,
   "metadata": {},
   "outputs": [],
   "source": [
    "# Enable these line if live changes in the codebase are made\n",
    "# %load_ext autoreload\n",
    "# %autoreload 2"
   ]
  },
  {
   "cell_type": "code",
   "execution_count": 2,
   "metadata": {},
   "outputs": [],
   "source": [
    "# Specific instruction to run the notebooks from a sub-folder.\n",
    "import sys\n",
    "sys.path.append(\"..\")"
   ]
  },
  {
   "cell_type": "code",
   "execution_count": 3,
   "metadata": {},
   "outputs": [],
   "source": [
    "import logging\n",
    "from bugfinder.settings import LOGGER\n",
    "from bugfinder.dataset import CWEClassificationDataset as Dataset\n",
    "from bugfinder.dataset.processing.dataset_ops import CopyDataset, RightFixer\n",
    "from bugfinder.joern.v031 import JoernDatasetProcessing as Joern031DatasetProcessing\n",
    "from bugfinder.joern.v040 import JoernDatasetProcessing as Joern040DatasetProcessing\n",
    "from bugfinder.neo4j.converter import Neo4J2Converter, Neo4J3Converter\n",
    "from bugfinder.neo4j.importer import Neo4J3Importer\n",
    "from bugfinder.neo4j.annot import Neo4JAnnotations"
   ]
  },
  {
   "cell_type": "code",
   "execution_count": 4,
   "metadata": {},
   "outputs": [],
   "source": [
    "# Setup logging to only output INFO level messages\n",
    "LOGGER.setLevel(logging.INFO)"
   ]
  },
  {
   "cell_type": "code",
   "execution_count": 5,
   "metadata": {},
   "outputs": [],
   "source": [
    "# Dataset directories (DO NOT EDIT)\n",
    "cwe121_dataset_path = \"../data/cwe121_v000_orig\"\n",
    "cwe121_v100_dataset_path = \"../data/cwe121_v100\"\n",
    "cwe121_v200_dataset_path = \"../data/cwe121_v200\"\n",
    "cwe121_v300_dataset_path = \"../data/cwe121_v300\""
   ]
  },
  {
   "cell_type": "code",
   "execution_count": 6,
   "metadata": {},
   "outputs": [
    {
     "name": "stdout",
     "output_type": "stream",
     "text": [
      "[2020-06-03 15:48:19][INFO] Dataset index build in 17ms. 200 test_cases, 2 classes, 0 features (v0).\n",
      "[2020-06-03 15:48:19][INFO] Running operation 1/3 (CopyDataset)...\n",
      "[2020-06-03 15:48:19][INFO] Dataset index build in 6ms. 200 test_cases, 2 classes, 0 features (v0).\n",
      "[2020-06-03 15:48:19][INFO] Running operation 2/3 (CopyDataset)...\n",
      "[2020-06-03 15:48:19][INFO] Dataset index build in 7ms. 200 test_cases, 2 classes, 0 features (v0).\n",
      "[2020-06-03 15:48:19][INFO] Running operation 3/3 (CopyDataset)...\n",
      "[2020-06-03 15:48:20][INFO] Dataset index build in 10ms. 200 test_cases, 2 classes, 0 features (v0).\n",
      "[2020-06-03 15:48:20][INFO] 3 operations run in 406ms.\n"
     ]
    },
    {
     "data": {
      "text/plain": [
       "<DatasetQueueRetCode.OK: 0>"
      ]
     },
     "execution_count": 6,
     "metadata": {},
     "output_type": "execute_result"
    }
   ],
   "source": [
    "# Copy the dataset into 3 different dataset for future use.\n",
    "cwe121_dataset = Dataset(cwe121_dataset_path)\n",
    "cwe121_dataset.queue_operation(CopyDataset, {\"to_path\": cwe121_v100_dataset_path, \"force\": True})\n",
    "cwe121_dataset.queue_operation(CopyDataset, {\"to_path\": cwe121_v200_dataset_path, \"force\": True})\n",
    "cwe121_dataset.queue_operation(CopyDataset, {\"to_path\": cwe121_v300_dataset_path, \"force\": True})\n",
    "\n",
    "cwe121_dataset.process()"
   ]
  },
  {
   "cell_type": "markdown",
   "metadata": {},
   "source": [
    "## 02.b. Joern v0.3.1"
   ]
  },
  {
   "cell_type": "code",
   "execution_count": 7,
   "metadata": {},
   "outputs": [
    {
     "name": "stdout",
     "output_type": "stream",
     "text": [
      "[2020-06-03 15:48:20][INFO] Dataset index build in 25ms. 200 test_cases, 2 classes, 0 features (v0).\n",
      "[2020-06-03 15:48:20][INFO] Running operation 1/4 (JoernDatasetProcessing)...\n",
      "[2020-06-03 15:48:35][INFO] Running operation 2/4 (Neo4J2Converter)...\n",
      "[2020-06-03 15:48:52][INFO] Running operation 3/4 (Neo4J3Converter)...\n",
      "[2020-06-03 15:48:52][INFO] Running operation 1/1 (RightFixer)...\n",
      "[2020-06-03 15:48:54][INFO] 1 operations run in 1647ms.\n",
      "[2020-06-03 15:49:33][INFO] Running operation 4/4 (Neo4JAnnotations)...\n",
      "[2020-06-03 15:49:33][INFO] Running operation 1/1 (RightFixer)...\n",
      "[2020-06-03 15:49:34][INFO] 1 operations run in 1090ms.\n",
      "[2020-06-03 15:49:50][INFO] Running commands...\n",
      "[2020-06-03 15:49:53][INFO] Command 1 out of 8 run in 3566ms\n",
      "[2020-06-03 15:49:54][INFO] Command 2 out of 8 run in 321ms\n",
      "[2020-06-03 15:49:54][INFO] Command 3 out of 8 run in 146ms\n",
      "[2020-06-03 15:49:58][INFO] Command 4 out of 8 run in 3864ms\n",
      "[2020-06-03 15:49:58][INFO] Command 5 out of 8 run in 543ms\n",
      "[2020-06-03 15:49:59][INFO] Command 6 out of 8 run in 721ms\n",
      "[2020-06-03 15:49:59][INFO] Command 7 out of 8 run in 180ms\n",
      "[2020-06-03 15:50:02][INFO] Command 8 out of 8 run in 2628ms\n",
      "[2020-06-03 15:50:02][INFO] Database annotated.\n",
      "[2020-06-03 15:50:03][INFO] 4 operations run in 103136ms.\n"
     ]
    },
    {
     "data": {
      "text/plain": [
       "<DatasetQueueRetCode.OK: 0>"
      ]
     },
     "execution_count": 7,
     "metadata": {},
     "output_type": "execute_result"
    }
   ],
   "source": [
    "# Build the dataset that is going to be used\n",
    "cwe121_v100_dataset = Dataset(cwe121_v100_dataset_path)\n",
    "\n",
    "# Apply Joern 3.1 conversion and import into Neo4J v3\n",
    "cwe121_v100_dataset.queue_operation(Joern031DatasetProcessing)\n",
    "cwe121_v100_dataset.queue_operation(Neo4J2Converter)\n",
    "cwe121_v100_dataset.queue_operation(Neo4J3Converter)\n",
    "cwe121_v100_dataset.queue_operation(Neo4JAnnotations)\n",
    "\n",
    "cwe121_v100_dataset.process()"
   ]
  },
  {
   "cell_type": "markdown",
   "metadata": {},
   "source": [
    "## 02.c. Joern v0.4.0"
   ]
  },
  {
   "cell_type": "code",
   "execution_count": 8,
   "metadata": {},
   "outputs": [
    {
     "name": "stdout",
     "output_type": "stream",
     "text": [
      "[2020-06-03 15:50:03][INFO] Dataset index build in 9ms. 200 test_cases, 2 classes, 0 features (v0).\n",
      "[2020-06-03 15:50:03][INFO] Running operation 1/3 (JoernDatasetProcessing)...\n",
      "[2020-06-03 15:50:13][INFO] Running operation 2/3 (Neo4J3Importer)...\n",
      "[2020-06-03 15:50:42][INFO] Running operation 3/3 (Neo4JAnnotations)...\n",
      "[2020-06-03 15:50:42][INFO] Running operation 1/1 (RightFixer)...\n",
      "[2020-06-03 15:50:43][INFO] 1 operations run in 1397ms.\n",
      "[2020-06-03 15:51:06][INFO] Running commands...\n",
      "[2020-06-03 15:51:09][INFO] Command 1 out of 8 run in 2591ms\n",
      "[2020-06-03 15:51:09][INFO] Command 2 out of 8 run in 271ms\n",
      "[2020-06-03 15:51:09][INFO] Command 3 out of 8 run in 138ms\n",
      "[2020-06-03 15:51:11][INFO] Command 4 out of 8 run in 2317ms\n",
      "[2020-06-03 15:51:12][INFO] Command 5 out of 8 run in 467ms\n",
      "[2020-06-03 15:51:12][INFO] Command 6 out of 8 run in 268ms\n",
      "[2020-06-03 15:51:13][INFO] Command 7 out of 8 run in 399ms\n",
      "[2020-06-03 15:51:13][INFO] Command 8 out of 8 run in 861ms\n",
      "[2020-06-03 15:51:13][INFO] Database annotated.\n",
      "[2020-06-03 15:51:14][INFO] 3 operations run in 71453ms.\n"
     ]
    },
    {
     "data": {
      "text/plain": [
       "<DatasetQueueRetCode.OK: 0>"
      ]
     },
     "execution_count": 8,
     "metadata": {},
     "output_type": "execute_result"
    }
   ],
   "source": [
    "# Build the dataset that is going to be used\n",
    "cwe121_v200_dataset = Dataset(cwe121_v200_dataset_path)\n",
    "\n",
    "# Apply Joern 4.0 conversion and import into Neo4J v3\n",
    "cwe121_v200_dataset.queue_operation(Joern040DatasetProcessing)\n",
    "cwe121_v200_dataset.queue_operation(Neo4J3Importer)\n",
    "cwe121_v200_dataset.queue_operation(Neo4JAnnotations)\n",
    "\n",
    "\n",
    "cwe121_v200_dataset.process()"
   ]
  },
  {
   "cell_type": "markdown",
   "metadata": {},
   "source": [
    "## 02.d. Joern v1.0.62\n",
    "\n",
    "*Currently in development. Coming soon™...*"
   ]
  },
  {
   "cell_type": "code",
   "execution_count": null,
   "metadata": {},
   "outputs": [],
   "source": [
    "# Reserved space for future Joern version\n",
    "# cwe121_v300_dataset = Dataset(cwe121_v300_dataset_path)\n",
    "# ..."
   ]
  },
  {
   "cell_type": "markdown",
   "metadata": {},
   "source": [
    "## Conclusion\n",
    "\n",
    "In this notebook, the cleaned dataset was parsed using various Joern version and is now ready to be further processed in Neo4J. The [next notebook](./03_neo4j_processing.ipynb) details the step continue the processing before the feature extraction."
   ]
  }
 ],
 "metadata": {
  "kernelspec": {
   "display_name": "Python 3",
   "language": "python",
   "name": "python3"
  },
  "language_info": {
   "codemirror_mode": {
    "name": "ipython",
    "version": 3
   },
   "file_extension": ".py",
   "mimetype": "text/x-python",
   "name": "python",
   "nbconvert_exporter": "python",
   "pygments_lexer": "ipython3",
   "version": "3.6.8"
  }
 },
 "nbformat": 4,
 "nbformat_minor": 2
}
