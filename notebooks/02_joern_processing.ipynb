{
 "cells": [
  {
   "cell_type": "markdown",
   "metadata": {},
   "source": [
    "# 02. Joern Processing\n",
    "\n",
    "In this notebook, the [previously created](./01_pre_processing.ipynb) dataset will be parsed using various version of Joern. The parsed data will then be imported or converted into a Neo4J v3 database for further processing.\n",
    "\n",
    "## 02.a  Imports, logging configuration and dataset preparation\n",
    "\n",
    "The first step is to perform the necessary imports and configure the program. Additionnally, the previously used dataset is copied into 3 different datasets to be processed by the various Joern versions."
   ]
  },
  {
   "cell_type": "code",
   "execution_count": 6,
   "metadata": {},
   "outputs": [],
   "source": [
    "# Specific instruction to run the notebooks from a sub-folder.\n",
    "import sys\n",
    "sys.path.append(\"..\")"
   ]
  },
  {
   "cell_type": "code",
   "execution_count": 16,
   "metadata": {},
   "outputs": [],
   "source": [
    "import logging\n",
    "from tools.settings import LOGGER\n",
    "from tools.dataset import CWEClassificationDataset as Dataset\n",
    "from tools.dataset.processing.dataset_ops import CopyDataset, RightFixer\n",
    "from tools.joern.v031 import JoernDatasetProcessing as Joern031DatasetProcessing\n",
    "from tools.joern.v040 import JoernDatasetProcessing as Joern040DatasetProcessing\n",
    "from tools.neo4j.converter import Neo4J2Converter, Neo4J3Converter\n",
    "from tools.neo4j.importer import Neo4J3Importer"
   ]
  },
  {
   "cell_type": "code",
   "execution_count": 8,
   "metadata": {},
   "outputs": [],
   "source": [
    "# Setup logging to only output INFO level messages\n",
    "LOGGER.setLevel(logging.INFO)"
   ]
  },
  {
   "cell_type": "code",
   "execution_count": 13,
   "metadata": {},
   "outputs": [],
   "source": [
    "# Dataset directories (DO NOT EDIT)\n",
    "cwe121_dataset_path = \"../data/cwe121_v000_orig\"\n",
    "cwe121_v100_dataset_path = \"../data/cwe121_v100\"\n",
    "cwe121_v200_dataset_path = \"../data/cwe121_v200\"\n",
    "cwe121_v300_dataset_path = \"../data/cwe121_v300\"\n",
    "\n",
    "# Number of sample to test (edit this number, performances will be impacted, max. 6288)\n",
    "sample_nb = 200"
   ]
  },
  {
   "cell_type": "code",
   "execution_count": 21,
   "metadata": {},
   "outputs": [
    {
     "name": "stdout",
     "output_type": "stream",
     "text": [
      "[2019-12-03 17:05:59][INFO] Dataset index build in 8ms. 200 test_cases, 2 classes, 0 features (v0).\n",
      "[2019-12-03 17:05:59][INFO] Running operation 1/3 (CopyDataset)...\n",
      "[2019-12-03 17:06:00][INFO] Dataset index build in 16ms. 200 test_cases, 2 classes, 0 features (v0).\n",
      "[2019-12-03 17:06:00][INFO] Running operation 1/1 (RightFixer)...\n",
      "[2019-12-03 17:06:01][INFO] 1 operations run in 992ms.\n",
      "[2019-12-03 17:06:01][INFO] Running operation 2/3 (CopyDataset)...\n",
      "[2019-12-03 17:06:01][INFO] Dataset index build in 13ms. 200 test_cases, 2 classes, 0 features (v0).\n",
      "[2019-12-03 17:06:01][INFO] Running operation 1/1 (RightFixer)...\n",
      "[2019-12-03 17:06:02][INFO] 1 operations run in 901ms.\n",
      "[2019-12-03 17:06:02][INFO] Running operation 3/3 (CopyDataset)...\n",
      "[2019-12-03 17:06:02][INFO] Dataset index build in 14ms. 200 test_cases, 2 classes, 0 features (v0).\n",
      "[2019-12-03 17:06:02][INFO] Running operation 1/1 (RightFixer)...\n",
      "[2019-12-03 17:06:03][INFO] 1 operations run in 961ms.\n",
      "[2019-12-03 17:06:03][INFO] 3 operations run in 3285ms.\n"
     ]
    }
   ],
   "source": [
    "# Copy the dataset into 3 different dataset for future use.\n",
    "cwe121_dataset = Dataset(cwe121_dataset_path)\n",
    "cwe121_dataset.queue_operation(CopyDataset, {\"to_path\": cwe121_v100_dataset_path, \"force\": True})\n",
    "cwe121_dataset.queue_operation(CopyDataset, {\"to_path\": cwe121_v200_dataset_path, \"force\": True})\n",
    "cwe121_dataset.queue_operation(CopyDataset, {\"to_path\": cwe121_v300_dataset_path, \"force\": True})\n",
    "\n",
    "cwe121_dataset.process()"
   ]
  },
  {
   "cell_type": "markdown",
   "metadata": {},
   "source": [
    "## 02.b Joern v0.3.1"
   ]
  },
  {
   "cell_type": "code",
   "execution_count": 17,
   "metadata": {},
   "outputs": [
    {
     "name": "stdout",
     "output_type": "stream",
     "text": [
      "[2019-12-03 16:38:52][INFO] Dataset index build in 9ms. 200 test_cases, 2 classes, 0 features (v0).\n",
      "[2019-12-03 16:38:52][INFO] Running operation 1/4 (JoernDatasetProcessing)...\n",
      "[2019-12-03 16:39:01][INFO] Running operation 2/4 (Neo4J2Converter)...\n",
      "[2019-12-03 16:39:11][INFO] Running operation 3/4 (RightFixer)...\n",
      "[2019-12-03 16:39:11][INFO] Running operation 4/4 (Neo4J3Converter)...\n",
      "[2019-12-03 16:39:29][INFO] 4 operations run in 36208ms.\n"
     ]
    }
   ],
   "source": [
    "# Build the dataset that is going to be used\n",
    "cwe121_v100_dataset = Dataset(cwe121_v100_dataset_path)\n",
    "\n",
    "# Apply Joern 3.1 conversion and import into Neo4J v3\n",
    "cwe121_v100_dataset.queue_operation(Joern031DatasetProcessing)\n",
    "cwe121_v100_dataset.queue_operation(Neo4J2Converter)\n",
    "cwe121_v100_dataset.queue_operation(RightFixer, {\"command_args\": \"neo4j_v3.db 101 101\"})\n",
    "cwe121_v100_dataset.queue_operation(Neo4J3Converter)\n",
    "\n",
    "cwe121_v100_dataset.process()"
   ]
  },
  {
   "cell_type": "markdown",
   "metadata": {},
   "source": [
    "## 02.c Joern v0.4.0"
   ]
  },
  {
   "cell_type": "code",
   "execution_count": 18,
   "metadata": {},
   "outputs": [
    {
     "name": "stdout",
     "output_type": "stream",
     "text": [
      "[2019-12-03 16:43:12][INFO] Dataset index build in 10ms. 200 test_cases, 2 classes, 0 features (v0).\n",
      "[2019-12-03 16:43:12][INFO] Running operation 1/3 (JoernDatasetProcessing)...\n",
      "[2019-12-03 16:43:19][INFO] Running operation 2/3 (Neo4J3Importer)...\n",
      "[2019-12-03 16:43:38][INFO] Running operation 3/3 (RightFixer)...\n",
      "[2019-12-03 16:43:39][INFO] 3 operations run in 27701ms.\n"
     ]
    }
   ],
   "source": [
    "# Build the dataset that is going to be used\n",
    "cwe121_v200_dataset = Dataset(cwe121_v200_dataset_path)\n",
    "\n",
    "# Apply Joern 4.0 conversion and import into Neo4J v3\n",
    "cwe121_v200_dataset.queue_operation(Joern040DatasetProcessing)\n",
    "cwe121_v200_dataset.queue_operation(Neo4J3Importer)\n",
    "cwe121_v200_dataset.queue_operation(RightFixer, {\"command_args\": \"neo4j_v3.db 101 101\"})\n",
    "\n",
    "cwe121_v200_dataset.process()"
   ]
  },
  {
   "cell_type": "markdown",
   "metadata": {},
   "source": [
    "## 02.d Joern v1.0.62\n",
    "\n",
    "*Currently in development. Coming soon™...*"
   ]
  },
  {
   "cell_type": "code",
   "execution_count": 20,
   "metadata": {},
   "outputs": [],
   "source": [
    "# Reserved space for future Joern version\n",
    "# cwe121_v300_dataset = Dataset(cwe121_v300_dataset_path)\n",
    "# ..."
   ]
  },
  {
   "cell_type": "markdown",
   "metadata": {},
   "source": [
    "## Conclusion\n",
    "\n",
    "In this notebook, the cleaned dataset was parsed using various Joern version and is now ready to be further processed in Neo4J. The [next notebook](./03_neo4j_processing.ipynb) details the step continue the processing before the feature extraction."
   ]
  }
 ],
 "metadata": {
  "kernelspec": {
   "display_name": "Python 3",
   "language": "python",
   "name": "python3"
  },
  "language_info": {
   "codemirror_mode": {
    "name": "ipython",
    "version": 3
   },
   "file_extension": ".py",
   "mimetype": "text/x-python",
   "name": "python",
   "nbconvert_exporter": "python",
   "pygments_lexer": "ipython3",
   "version": "3.6.8"
  }
 },
 "nbformat": 4,
 "nbformat_minor": 2
}
