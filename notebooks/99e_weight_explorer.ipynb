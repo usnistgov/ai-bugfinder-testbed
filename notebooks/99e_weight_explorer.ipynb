{
 "cells": [
  {
   "cell_type": "code",
   "execution_count": 1,
   "metadata": {},
   "outputs": [],
   "source": [
    "# Disable tensorflow logging\n",
    "import tensorflow as tf\n",
    "import os\n",
    "import logging\n",
    "os.environ['TF_CPP_MIN_LOG_LEVEL'] = '3'  # or any {'0', '1', '2'}\n",
    "logging.getLogger('tensorflow').setLevel(logging.FATAL)"
   ]
  },
  {
   "cell_type": "code",
   "execution_count": 2,
   "metadata": {},
   "outputs": [],
   "source": [
    "# Specific instruction to run the notebooks from a sub-folder.\n",
    "import sys\n",
    "sys.path.append(\"..\")"
   ]
  },
  {
   "cell_type": "code",
   "execution_count": 3,
   "metadata": {},
   "outputs": [],
   "source": [
    "import logging\n",
    "from bugfinder.settings import LOGGER\n",
    "\n",
    "from os.path import join, exists, basename, dirname\n",
    "from shutil import rmtree, copytree\n",
    "\n",
    "import tensorflow as tf\n",
    "from pprint import pprint\n",
    "from copy import deepcopy\n",
    "import matplotlib.pyplot as plt\n",
    "\n",
    "from tqdm.notebook import tqdm\n",
    "import numpy as np\n",
    "import pandas as pd\n",
    "import xlsxwriter"
   ]
  },
  {
   "cell_type": "code",
   "execution_count": 4,
   "metadata": {},
   "outputs": [],
   "source": [
    "# Setup logging to only output INFO level messages\n",
    "LOGGER.setLevel(logging.INFO)\n",
    "LOGGER.propagate = False"
   ]
  },
  {
   "cell_type": "code",
   "execution_count": 5,
   "metadata": {},
   "outputs": [],
   "source": [
    "def prep_weights(input_weights, log=False):\n",
    "    w_prep = list()\n",
    "    \n",
    "    for value in input_weights.values():\n",
    "        last_col = value.columns[-1]\n",
    "        w_prep.append(\n",
    "            deepcopy(value.drop([last_col], axis=1).values.tolist())\n",
    "        )\n",
    "        \n",
    "    return w_prep\n",
    "\n",
    "def final_weights(input_weights, log=False):\n",
    "    size = [len(layer[0]) for layer in input_weights]\n",
    "    final_weights = np.zeros(size, dtype=np.float32)\n",
    "\n",
    "    iterator = np.nditer(final_weights, flags=['multi_index'])\n",
    "    for _ in iterator:\n",
    "        idx = iterator.multi_index\n",
    "        v = 1\n",
    "        for n in range(len(idx) - 1):\n",
    "            if log:\n",
    "                print(f\"Getting {n},{idx[n+1]},{idx[n]}: {input_weights[n].shape}\")\n",
    "            v *= input_weights[n][idx[n+1]][idx[n]]\n",
    "\n",
    "        final_weights[idx] = v * input_weights[-1][0][idx[-1]]\n",
    "        \n",
    "    return final_weights\n",
    "\n",
    "def revise_node_weights(node_weights, min_bound=0, max_bound=1):\n",
    "    abs_values = np.abs(node_weights)\n",
    "    min_value = np.min(abs_values)\n",
    "    max_value = np.max(abs_values)\n",
    "    \n",
    "    if min_value == max_value:\n",
    "        revised_node_weights = [0 for _ in abs_values]\n",
    "    else:\n",
    "        normalized_weights = [\n",
    "            min_bound + (max_bound - min_bound) * (v - min_value) / (max_value - min_value) \n",
    "            for v in abs_values\n",
    "        ]\n",
    "        threshold = np.median(normalized_weights) - 0.5 * np.std(normalized_weights)\n",
    "\n",
    "        revised_node_weights = [get_val(v, threshold) for v in normalized_weights]\n",
    "    \n",
    "    return revised_node_weights\n",
    "\n",
    "def get_val(val, thr):\n",
    "    return val if val >= thr else 0\n",
    "\n",
    "def init_model(model_dir, model_arch, feat_count):\n",
    "    # Renaming input columns to avoid forbidden characters\n",
    "    columns = [\n",
    "        f\"feat{feature_nb}\" for feature_nb in range(feat_count)\n",
    "    ]\n",
    "\n",
    "    model = tf.estimator.DNNClassifier(\n",
    "        hidden_units = model_arch,\n",
    "        feature_columns=[\n",
    "            tf.feature_column.numeric_column(col) for col in columns\n",
    "        ],\n",
    "        n_classes=2,\n",
    "        model_dir=model_dir,\n",
    "    )\n",
    "\n",
    "    return model, columns"
   ]
  },
  {
   "cell_type": "code",
   "execution_count": 6,
   "metadata": {},
   "outputs": [],
   "source": [
    "model_dir = \"/home/pnd/model23\"\n",
    "model_arch = [10, 10, 10]\n",
    "feat_count = 632\n",
    "        \n",
    "model, columns = init_model(\n",
    "    model_dir, \n",
    "    model_arch, \n",
    "    feat_count\n",
    ")"
   ]
  },
  {
   "cell_type": "code",
   "execution_count": 7,
   "metadata": {},
   "outputs": [],
   "source": [
    "chosen_model_vars = [var for var in model.get_variable_names() if basename(var) == \"kernel\"]\n",
    "layers = sorted(set([basename(dirname(var)) for var in chosen_model_vars]))\n",
    "cols = columns\n",
    "\n",
    "weights = dict()\n",
    "\n",
    "for layer in layers:\n",
    "    kernel = model.get_variable_value(f\"dnn/{layer}/kernel\").transpose()\n",
    "    \n",
    "    layer_weights = np.zeros((kernel.shape[0], kernel.shape[1]+1))\n",
    "    \n",
    "    layer_weights[:, :-1] = kernel\n",
    "    layer_weights[:, -1] = model.get_variable_value(f\"dnn/{layer}/bias\")\n",
    "    \n",
    "    weights[layer] = pd.DataFrame(layer_weights, columns=cols+[\"bias\"])\n",
    "    \n",
    "    cols = [f\"{layer}_n{index}\" for index in range(layer_weights.shape[0])]"
   ]
  },
  {
   "cell_type": "code",
   "execution_count": 8,
   "metadata": {},
   "outputs": [],
   "source": [
    "# Step 1: correct layer value\n",
    "new_weights = dict()\n",
    "\n",
    "for layer in layers:\n",
    "    layer_values = weights[layer].values\n",
    "    new_layer_values = list()\n",
    "\n",
    "    for node_values in layer_values:\n",
    "        updated_node_values = revise_node_weights(node_values, -1, 1)\n",
    "        new_layer_values.append(updated_node_values)\n",
    "        \n",
    "    new_weights[layer] = pd.DataFrame(\n",
    "        new_layer_values, columns=[f\"c{idx}\" for idx in range(len(new_layer_values[0]))]\n",
    "    )"
   ]
  },
  {
   "cell_type": "code",
   "execution_count": 9,
   "metadata": {},
   "outputs": [],
   "source": [
    "# Compute weights using orig weights\n",
    "pww = prep_weights(weights)\n",
    "fww = final_weights(pww)\n",
    "fww_abs = np.abs(fww)"
   ]
  },
  {
   "cell_type": "code",
   "execution_count": 10,
   "metadata": {},
   "outputs": [],
   "source": [
    "# Compute weights using normalized weights\n",
    "npw = prep_weights(new_weights)\n",
    "nfw = final_weights(npw)\n",
    "nfw_abs = np.abs(nfw)"
   ]
  },
  {
   "cell_type": "code",
   "execution_count": 11,
   "metadata": {},
   "outputs": [],
   "source": [
    "# Compute means\n",
    "fww_avg = list()\n",
    "fww_abs_avg = list()\n",
    "nfw_avg = list()\n",
    "nfw_abs_avg = list()\n",
    "\n",
    "for idx in range(len(fww)):\n",
    "    fww_avg.append(np.mean(fww[idx].flatten()))\n",
    "    fww_abs_avg.append(np.mean(fww_abs[idx].flatten()))\n",
    "    nfw_avg.append(np.mean(nfw[idx].flatten()))\n",
    "    nfw_abs_avg.append(np.mean(nfw_abs[idx].flatten()))"
   ]
  },
  {
   "cell_type": "code",
   "execution_count": 12,
   "metadata": {},
   "outputs": [
    {
     "data": {
      "image/png": "[encoded data removed]",
      "text/plain": [
       "<Figure size 720x720 with 4 Axes>"
      ]
     },
     "metadata": {
      "needs_background": "light"
     },
     "output_type": "display_data"
    }
   ],
   "source": [
    "spread = 100\n",
    "fig, ax = plt.subplots(nrows=2, ncols=2, figsize=(10, 10))\n",
    "ax[0, 0].hist(fww_avg, spread, color='blue', alpha=0.75)\n",
    "ax[0, 1].hist(fww_abs_avg, spread, color='orange', alpha=0.75)\n",
    "ax[1, 0].hist(nfw_avg, spread, color='blue', alpha=0.75)\n",
    "ax[1, 1].hist(nfw_abs_avg, spread, color='orange', alpha=0.75)\n",
    "plt.show()"
   ]
  },
  {
   "cell_type": "code",
   "execution_count": 13,
   "metadata": {},
   "outputs": [
    {
     "name": "stdout",
     "output_type": "stream",
     "text": [
      "0\n",
      "Computing...\n"
     ]
    },
    {
     "data": {
      "application/vnd.jupyter.widget-view+json": {
       "model_id": "0c84159132ed47019990e1fcc566758c",
       "version_major": 2,
       "version_minor": 0
      },
      "text/plain": [
       "HBox(children=(FloatProgress(value=0.0, max=8.0), HTML(value='')))"
      ]
     },
     "metadata": {},
     "output_type": "display_data"
    },
    {
     "data": {
      "application/vnd.jupyter.widget-view+json": {
       "model_id": "",
       "version_major": 2,
       "version_minor": 0
      },
      "text/plain": [
       "HBox(children=(FloatProgress(value=0.0, description='Threshold: 0.05', max=632.0, style=ProgressStyle(descript…"
      ]
     },
     "metadata": {},
     "output_type": "display_data"
    },
    {
     "data": {
      "application/vnd.jupyter.widget-view+json": {
       "model_id": "",
       "version_major": 2,
       "version_minor": 0
      },
      "text/plain": [
       "HBox(children=(FloatProgress(value=0.0, description='Threshold: 0.1', max=632.0, style=ProgressStyle(descripti…"
      ]
     },
     "metadata": {},
     "output_type": "display_data"
    },
    {
     "data": {
      "application/vnd.jupyter.widget-view+json": {
       "model_id": "",
       "version_major": 2,
       "version_minor": 0
      },
      "text/plain": [
       "HBox(children=(FloatProgress(value=0.0, description='Threshold: 0.2', max=632.0, style=ProgressStyle(descripti…"
      ]
     },
     "metadata": {},
     "output_type": "display_data"
    },
    {
     "data": {
      "application/vnd.jupyter.widget-view+json": {
       "model_id": "",
       "version_major": 2,
       "version_minor": 0
      },
      "text/plain": [
       "HBox(children=(FloatProgress(value=0.0, description='Threshold: 0.5', max=632.0, style=ProgressStyle(descripti…"
      ]
     },
     "metadata": {},
     "output_type": "display_data"
    },
    {
     "data": {
      "application/vnd.jupyter.widget-view+json": {
       "model_id": "",
       "version_major": 2,
       "version_minor": 0
      },
      "text/plain": [
       "HBox(children=(FloatProgress(value=0.0, description='Threshold: 1', max=632.0, style=ProgressStyle(description…"
      ]
     },
     "metadata": {},
     "output_type": "display_data"
    },
    {
     "data": {
      "application/vnd.jupyter.widget-view+json": {
       "model_id": "",
       "version_major": 2,
       "version_minor": 0
      },
      "text/plain": [
       "HBox(children=(FloatProgress(value=0.0, description='Threshold: 2', max=632.0, style=ProgressStyle(description…"
      ]
     },
     "metadata": {},
     "output_type": "display_data"
    },
    {
     "data": {
      "application/vnd.jupyter.widget-view+json": {
       "model_id": "",
       "version_major": 2,
       "version_minor": 0
      },
      "text/plain": [
       "HBox(children=(FloatProgress(value=0.0, description='Threshold: 5', max=632.0, style=ProgressStyle(description…"
      ]
     },
     "metadata": {},
     "output_type": "display_data"
    },
    {
     "data": {
      "application/vnd.jupyter.widget-view+json": {
       "model_id": "",
       "version_major": 2,
       "version_minor": 0
      },
      "text/plain": [
       "HBox(children=(FloatProgress(value=0.0, description='Threshold: 10', max=632.0, style=ProgressStyle(descriptio…"
      ]
     },
     "metadata": {},
     "output_type": "display_data"
    },
    {
     "name": "stdout",
     "output_type": "stream",
     "text": [
      "\n",
      "-3622651\n"
     ]
    }
   ],
   "source": [
    "thresholds = [0.05, 0.1, 0.2, 0.5, 1, 2, 5, 10]\n",
    "fw_corrs = [deepcopy(fww) for _ in range(len(thresholds))]\n",
    "\n",
    "print(sum([np.count_nonzero(fw_corr.flatten()) for fw_corr in fw_corrs]) - len(fw_corrs[0].flatten())*len(fw_corrs))\n",
    "\n",
    "print(\"Computing...\")\n",
    "for thr_idx, thr_val in tqdm(enumerate(thresholds), total=len(thresholds)):\n",
    "    for fidx, fv in tqdm(enumerate(fww_abs), desc=f\"Threshold: {thr_val}\", total=len(fww_abs), leave=False):\n",
    "        flat = fv.flatten()\n",
    "\n",
    "        threshold = thr_val * np.std(flat)\n",
    "\n",
    "        with np.nditer(fw_corrs[thr_idx][fidx], op_flags=['readwrite']) as it:\n",
    "            for x in it:\n",
    "                if abs(x) < threshold:\n",
    "                    x[...] = 0.\n",
    "\n",
    "print(sum([np.count_nonzero(fw_corr.flatten()) for fw_corr in fw_corrs]) - len(fw_corrs[0].flatten())*len(fw_corrs))"
   ]
  },
  {
   "cell_type": "code",
   "execution_count": 14,
   "metadata": {},
   "outputs": [
    {
     "data": {
      "image/png": "[encoded data removed]",
      "text/plain": [
       "<Figure size 1440x1440 with 10 Axes>"
      ]
     },
     "metadata": {
      "needs_background": "light"
     },
     "output_type": "display_data"
    }
   ],
   "source": [
    "fw_corrs_min = []\n",
    "fw_corrs_max = []\n",
    "fig, ax = plt.subplots(nrows=5, ncols=2, figsize=(20, 20))\n",
    "\n",
    "fig_idx = 0\n",
    "ax[int(np.floor(fig_idx/2)), fig_idx%2].hist(fww_avg, spread, alpha=0.75)\n",
    "\n",
    "for fw_corr in fw_corrs:\n",
    "    fw_corr_avg = []\n",
    "    fig_idx += 1\n",
    "    for idx in range(len(fww)):\n",
    "        fw_corr_avg.append(np.mean(fw_corr[idx].flatten()))\n",
    "        \n",
    "    fw_corrs_min.append(np.min(fw_corr_avg))\n",
    "    fw_corrs_max.append(np.max(fw_corr_avg))\n",
    "    \n",
    "    ax[int(np.floor(fig_idx/2)), fig_idx%2].hist(fw_corr_avg, spread, alpha=0.75)\n",
    "    \n",
    "plt.show()"
   ]
  },
  {
   "cell_type": "code",
   "execution_count": 15,
   "metadata": {},
   "outputs": [
    {
     "name": "stdout",
     "output_type": "stream",
     "text": [
      "[0.05, 0.1, 0.2, 0.5, 1, 2, 5, 10]\n",
      "[-0.028897285, -0.028707534, -0.02866314, -0.029951667, -0.028367609, -0.021168198, -0.0112790745, -0.005330657]\n",
      "[0.040709466, 0.040936004, 0.04194093, 0.042604707, 0.043039676, 0.03572118, 0.015975032, 0.004937109]\n"
     ]
    }
   ],
   "source": [
    "print(thresholds)\n",
    "print(fw_corrs_min)\n",
    "print(fw_corrs_max)"
   ]
  },
  {
   "cell_type": "code",
   "execution_count": 16,
   "metadata": {},
   "outputs": [
    {
     "data": {
      "image/png": "[encoded data removed]",
      "text/plain": [
       "<Figure size 432x288 with 1 Axes>"
      ]
     },
     "metadata": {
      "needs_background": "light"
     },
     "output_type": "display_data"
    }
   ],
   "source": [
    "chosen_corr = fw_corrs[3]\n",
    "zeros = [(ft.size - np.count_nonzero(ft.flatten())) / ft.size for ft in chosen_corr]\n",
    "\n",
    "plt.hist(zeros, spread, alpha=0.75)\n",
    "plt.show()"
   ]
  },
  {
   "cell_type": "code",
   "execution_count": 27,
   "metadata": {},
   "outputs": [
    {
     "data": {
      "text/plain": [
       "array([116, 516, 235, 498, 526, 220, 108, 487, 103, 406, 456,  54,  50,\n",
       "       204, 410, 254, 256, 142, 569,  80, 140, 545, 423,  65, 474,  77,\n",
       "       570, 520, 306, 563, 270,  73, 212, 495, 216, 333, 318, 630, 163,\n",
       "       178,  41, 394, 550,  37, 102, 517,  52, 232, 184, 446, 291, 560,\n",
       "       239, 421, 425, 382, 231, 539, 292, 194, 589, 205,  88,  38, 485,\n",
       "       253, 571, 128, 453, 187, 315, 177, 468,  10, 342, 118, 438, 221,\n",
       "       414, 491, 628, 492, 466, 249, 268, 615, 236, 157, 579, 521,  90,\n",
       "       129, 126, 561, 553, 208, 114, 327, 417, 430, 160, 131, 378,  72,\n",
       "       138,  12, 554, 625, 154, 602, 502,  48, 486, 443, 240,  33, 618,\n",
       "       360, 100, 558, 609, 377,  13,  92, 580, 255, 237, 207, 467,   6,\n",
       "       399, 408, 273, 451, 326, 180, 415, 171, 271,  64, 575, 145, 300,\n",
       "       434, 198,  68, 181, 139,  31, 537, 470,  91,  43,  85, 125, 427,\n",
       "       444, 283,  17, 190, 346,  26, 244, 294, 458, 189, 411, 313, 428,\n",
       "       170, 603,  61, 400, 397, 385, 585, 631,  36, 132, 576, 477, 566,\n",
       "       527, 195, 105, 484, 352,  83, 541, 186, 594,   1, 461,  24, 479,\n",
       "       365, 278, 441, 448,  11, 289, 288, 511, 513, 584, 504, 286,   0,\n",
       "       626, 542, 200, 151, 480, 148, 497, 471, 608, 350, 263, 242, 572,\n",
       "       185, 375, 130,  67, 457, 250,  32, 146, 531, 508, 621,   4, 582,\n",
       "       590, 469, 264, 442, 173, 530, 293, 305,   7, 475, 379, 464, 482,\n",
       "       299, 238, 546, 514, 555, 343, 176, 586,  46, 499,  57, 429, 284,\n",
       "       565, 164, 549, 259, 405, 251,  21,  16, 335, 473,  82,  81, 175,\n",
       "       225, 182, 349, 367, 162, 340, 161, 393, 219, 523, 372, 574, 532,\n",
       "       395, 562, 500, 420, 320, 538, 285, 117, 604, 304, 419,  35, 388,\n",
       "       501, 578, 347, 556,  60, 581, 392, 223, 113, 445, 317, 540, 321,\n",
       "       213,   5, 409, 616, 601, 614, 287, 440, 297, 627, 374, 433, 229,\n",
       "       533, 439, 610,  30, 111,  76, 137,  75,  22, 265, 478,  96, 591,\n",
       "       611, 188, 528, 241, 234, 564, 269, 600, 233, 134, 583, 620, 577,\n",
       "       266, 619,  14, 363, 390, 404,   2, 298, 147, 323, 107, 330, 597,\n",
       "       387, 426, 568,  39, 462,   3, 295, 402, 573, 296,  55, 166, 369,\n",
       "       381, 168, 559, 275, 529, 383, 407, 359, 143, 432, 507, 524, 351,\n",
       "       525,  34, 316,  42,  93, 179, 551, 450, 544, 334,  49,  15, 416,\n",
       "       599,  56, 211, 183,  84, 324, 312, 279, 547, 412, 307, 156, 210,\n",
       "        28, 506, 613, 413, 262,  27, 135, 274, 282, 535, 337, 548, 136,\n",
       "       319, 167, 345,  19,  23, 366, 153, 435, 595, 629, 272, 391, 311,\n",
       "       281,  89, 331, 158, 593, 150, 509, 353, 106,  70,  29, 373, 224,\n",
       "        45, 496, 598, 483, 127, 364,  69, 354,  62, 215, 463, 159, 376,\n",
       "       357, 124, 422, 534,  99,  18, 104, 396,  87, 328, 115,  97, 607,\n",
       "       515, 222, 280,   9, 112, 356, 358,  20, 322, 455, 206, 310, 552,\n",
       "       197, 465,  71,  47, 217, 301, 384, 418, 452, 447, 431,  78, 201,\n",
       "        98, 172, 403, 245, 174, 149, 119, 192, 226, 329, 121, 543, 165,\n",
       "       123, 344, 588, 362, 339,  51, 144, 308, 227,  63,   8, 522, 199,\n",
       "        74, 605, 191, 460, 536, 303, 155, 489, 617, 493, 624, 596, 361,\n",
       "       622, 494,  44, 368, 120, 386,  59, 248, 389, 488, 481, 510, 341,\n",
       "       110, 472, 252, 141, 505, 260, 518, 606, 228, 290, 587, 133, 193,\n",
       "       258, 247, 246, 437, 355, 370, 592, 567, 257, 476, 203, 314,  53,\n",
       "       454, 623, 109, 276, 519, 336, 196, 449, 261, 512, 169, 209, 424,\n",
       "       557,  79, 267, 436, 459, 332,  95, 503, 325, 380, 398, 612,  94,\n",
       "       202, 243, 302, 348, 277, 218, 371, 490,  25,  40, 101,  58, 401,\n",
       "       338,  86, 122, 152, 214,  66, 309, 230])"
      ]
     },
     "execution_count": 27,
     "metadata": {},
     "output_type": "execute_result"
    }
   ],
   "source": [
    "sorted_cols = np.argsort(zeros)\n",
    "sorted_cols"
   ]
  },
  {
   "cell_type": "code",
   "execution_count": 34,
   "metadata": {},
   "outputs": [
    {
     "data": {
      "text/plain": [
       "array([222, 280,   9, 112, 356, 358,  20, 322, 455, 206, 310, 552, 197,\n",
       "       465,  71,  47, 217, 301, 384, 418, 452, 447, 431,  78, 201,  98,\n",
       "       172, 403, 245, 174, 149, 119, 192, 226, 329, 121, 543, 165, 123,\n",
       "       344, 588, 362, 339,  51, 144, 308, 227,  63,   8, 522, 199,  74,\n",
       "       605, 191, 460, 536, 303, 155, 489, 617, 493, 624, 596, 361, 622,\n",
       "       494,  44, 368, 120, 386,  59, 248, 389, 488, 481, 510, 341, 110,\n",
       "       472, 252, 141, 505, 260, 518, 606, 228, 290, 587, 133, 193, 258,\n",
       "       247, 246, 437, 355, 370, 592, 567, 257, 476, 203, 314,  53, 454,\n",
       "       623, 109, 276, 519, 336, 196, 449, 261, 512, 169, 209, 424, 557,\n",
       "        79, 267, 436, 459, 332,  95, 503, 325, 380, 398, 612,  94, 202,\n",
       "       243, 302, 348, 277, 218, 371, 490,  25,  40, 101,  58, 401, 338,\n",
       "        86, 122, 152, 214,  66, 309, 230])"
      ]
     },
     "execution_count": 34,
     "metadata": {},
     "output_type": "execute_result"
    }
   ],
   "source": [
    "limited_cols = sorted_cols[-150:]\n",
    "limited_cols"
   ]
  },
  {
   "cell_type": "code",
   "execution_count": 35,
   "metadata": {},
   "outputs": [],
   "source": [
    "aiwe = pd.read_csv(\"../data/aiwe-test-nopca3/sign01.csv\")\n",
    "aiwe_cols = np.array(aiwe.columns)"
   ]
  },
  {
   "cell_type": "code",
   "execution_count": 36,
   "metadata": {},
   "outputs": [],
   "source": [
    "limited_cols_for_pd = [aiwe_cols[idx] for idx in limited_cols]"
   ]
  },
  {
   "cell_type": "code",
   "execution_count": 40,
   "metadata": {},
   "outputs": [],
   "source": [
    "new_aiwe = aiwe.drop(aiwe.columns.difference(limited_cols_for_pd), axis=1)\n",
    "new_aiwe.to_csv(\"../data/aiwe-test-nopca3/sign01-lim.csv\", index=False)"
   ]
  },
  {
   "cell_type": "code",
   "execution_count": null,
   "metadata": {},
   "outputs": [],
   "source": []
  }
 ],
 "metadata": {
  "kernelspec": {
   "display_name": "Python 3",
   "language": "python",
   "name": "python3"
  },
  "language_info": {
   "codemirror_mode": {
    "name": "ipython",
    "version": 3
   },
   "file_extension": ".py",
   "mimetype": "text/x-python",
   "name": "python",
   "nbconvert_exporter": "python",
   "pygments_lexer": "ipython3",
   "version": "3.6.12"
  }
 },
 "nbformat": 4,
 "nbformat_minor": 2
}
